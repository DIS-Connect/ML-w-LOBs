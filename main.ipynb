{
 "cells": [
  {
   "cell_type": "code",
<<<<<<< HEAD
   "execution_count": 41,
   "id": "84d8f45a",
   "metadata": {},
   "outputs": [],
   "source": [
    "import os\n",
    "import pandas as pd\n",
    "import boto3\n",
    "from datetime import datetime, timedelta\n",
    "\n",
    "import importlib\n",
    "import matplotlib.pyplot as plt\n",
    "import seaborn as sns\n",
    "\n",
    "from ipywidgets import interact, FloatSlider\n",
    "import order_book.transformation\n",
    "from order_book.simulation import *\n",
    "from order_book.transformation import *\n",
    "from order_book.loader import *\n",
    "import awswrangler as wr\n",
    "\n",
    "import ml_model\n",
    "from ml_model.test_model import *\n",
    "from ml_model.seq2seq import *\n",
    "\n",
    "from tensorflow.keras.optimizers import Adam\n",
    "import warnings\n",
    "import matplotlib.pyplot as plt\n",
    "\n",
    "warnings.filterwarnings(\"ignore\", category=FutureWarning)\n",
    "boto3.setup_default_session(profile_name=\"data\")\n",
    "\n",
    "%reload_ext autoreload\n",
    "%autoreload 2"
=======
   "execution_count": 1,
   "metadata": {
    "tags": []
   },
   "outputs": [
    {
     "name": "stdout",
     "output_type": "stream",
     "text": [
      "Collecting typeguard\n",
      "  Downloading typeguard-4.3.0-py3-none-any.whl.metadata (3.7 kB)\n",
      "Requirement already satisfied: typing-extensions>=4.10.0 in /home/ec2-user/anaconda3/envs/tensorflow2_p310/lib/python3.10/site-packages (from typeguard) (4.10.0)\n",
      "Downloading typeguard-4.3.0-py3-none-any.whl (35 kB)\n",
      "Installing collected packages: typeguard\n",
      "Successfully installed typeguard-4.3.0\n",
      "Collecting awswrangler\n",
      "  Downloading awswrangler-3.7.3-py3-none-any.whl.metadata (17 kB)\n",
      "Requirement already satisfied: boto3<2.0.0,>=1.20.32 in /home/ec2-user/anaconda3/envs/tensorflow2_p310/lib/python3.10/site-packages (from awswrangler) (1.34.101)\n",
      "Requirement already satisfied: botocore<2.0.0,>=1.23.32 in /home/ec2-user/anaconda3/envs/tensorflow2_p310/lib/python3.10/site-packages (from awswrangler) (1.34.101)\n",
      "Requirement already satisfied: numpy<2.0,>=1.18 in /home/ec2-user/anaconda3/envs/tensorflow2_p310/lib/python3.10/site-packages (from awswrangler) (1.26.4)\n",
      "Requirement already satisfied: packaging<25.0,>=21.1 in /home/ec2-user/anaconda3/envs/tensorflow2_p310/lib/python3.10/site-packages (from awswrangler) (21.3)\n",
      "Requirement already satisfied: pandas<3.0.0,>=1.2.0 in /home/ec2-user/anaconda3/envs/tensorflow2_p310/lib/python3.10/site-packages (from awswrangler) (1.5.3)\n",
      "Requirement already satisfied: pyarrow>=8.0.0 in /home/ec2-user/anaconda3/envs/tensorflow2_p310/lib/python3.10/site-packages (from awswrangler) (15.0.2)\n",
      "Requirement already satisfied: typing-extensions<5.0.0,>=4.4.0 in /home/ec2-user/anaconda3/envs/tensorflow2_p310/lib/python3.10/site-packages (from awswrangler) (4.10.0)\n",
      "Requirement already satisfied: jmespath<2.0.0,>=0.7.1 in /home/ec2-user/anaconda3/envs/tensorflow2_p310/lib/python3.10/site-packages (from boto3<2.0.0,>=1.20.32->awswrangler) (1.0.1)\n",
      "Requirement already satisfied: s3transfer<0.11.0,>=0.10.0 in /home/ec2-user/anaconda3/envs/tensorflow2_p310/lib/python3.10/site-packages (from boto3<2.0.0,>=1.20.32->awswrangler) (0.10.1)\n",
      "Requirement already satisfied: python-dateutil<3.0.0,>=2.1 in /home/ec2-user/anaconda3/envs/tensorflow2_p310/lib/python3.10/site-packages (from botocore<2.0.0,>=1.23.32->awswrangler) (2.9.0)\n",
      "Requirement already satisfied: urllib3!=2.2.0,<3,>=1.25.4 in /home/ec2-user/anaconda3/envs/tensorflow2_p310/lib/python3.10/site-packages (from botocore<2.0.0,>=1.23.32->awswrangler) (2.2.1)\n",
      "Requirement already satisfied: pyparsing!=3.0.5,>=2.0.2 in /home/ec2-user/anaconda3/envs/tensorflow2_p310/lib/python3.10/site-packages (from packaging<25.0,>=21.1->awswrangler) (3.1.2)\n",
      "Requirement already satisfied: pytz>=2020.1 in /home/ec2-user/anaconda3/envs/tensorflow2_p310/lib/python3.10/site-packages (from pandas<3.0.0,>=1.2.0->awswrangler) (2024.1)\n",
      "Requirement already satisfied: six>=1.5 in /home/ec2-user/anaconda3/envs/tensorflow2_p310/lib/python3.10/site-packages (from python-dateutil<3.0.0,>=2.1->botocore<2.0.0,>=1.23.32->awswrangler) (1.16.0)\n",
      "Downloading awswrangler-3.7.3-py3-none-any.whl (378 kB)\n",
      "\u001b[2K   \u001b[90m━━━━━━━━━━━━━━━━━━━━━━━━━━━━━━━━━━━━━━━━\u001b[0m \u001b[32m378.2/378.2 kB\u001b[0m \u001b[31m9.9 MB/s\u001b[0m eta \u001b[36m0:00:00\u001b[0mta \u001b[36m0:00:01\u001b[0m\n",
      "\u001b[?25hInstalling collected packages: awswrangler\n",
      "Successfully installed awswrangler-3.7.3\n"
     ]
    }
   ],
   "source": [
    "!pip install typeguard\n",
    "!pip install awswrangler"
   ]
  },
  {
   "cell_type": "code",
   "execution_count": 2,
   "metadata": {
    "tags": []
   },
   "outputs": [
    {
     "name": "stderr",
     "output_type": "stream",
     "text": [
      "2024-05-28 08:10:22.178100: E external/local_xla/xla/stream_executor/cuda/cuda_dnn.cc:9261] Unable to register cuDNN factory: Attempting to register factory for plugin cuDNN when one has already been registered\n",
      "2024-05-28 08:10:22.178216: E external/local_xla/xla/stream_executor/cuda/cuda_fft.cc:607] Unable to register cuFFT factory: Attempting to register factory for plugin cuFFT when one has already been registered\n",
      "2024-05-28 08:10:23.922796: E external/local_xla/xla/stream_executor/cuda/cuda_blas.cc:1515] Unable to register cuBLAS factory: Attempting to register factory for plugin cuBLAS when one has already been registered\n",
      "2024-05-28 08:10:26.946771: I tensorflow/core/platform/cpu_feature_guard.cc:182] This TensorFlow binary is optimized to use available CPU instructions in performance-critical operations.\n",
      "To enable the following instructions: AVX2 AVX512F FMA, in other operations, rebuild TensorFlow with the appropriate compiler flags.\n",
      "2024-05-28 08:10:35.551805: W tensorflow/compiler/tf2tensorrt/utils/py_utils.cc:38] TF-TRT Warning: Could not find TensorRT\n"
     ]
    }
   ],
   "source": [
    "import os\n",
    "import pandas as pd\n",
    "import boto3\n",
    "from datetime import datetime, timedelta\n",
    "\n",
    "import importlib\n",
    "import matplotlib.pyplot as plt\n",
    "import seaborn as sns\n",
    "\n",
    "from ipywidgets import interact, FloatSlider\n",
    "import order_book.transformation\n",
    "from order_book.simulation import *\n",
    "from order_book.transformation import *\n",
    "from order_book.loader import *\n",
    "import awswrangler as wr\n",
    "\n",
    "from tensorflow.keras.callbacks import Callback\n",
    "import ml_model\n",
    "from ml_model.test_model import *\n",
    "\n",
    "from tensorflow.keras.optimizers import Adam\n",
    "import warnings\n",
    "import matplotlib.pyplot as plt\n",
    "\n",
    "warnings.filterwarnings(\"ignore\", category=FutureWarning)"
   ]
  },
  {
   "cell_type": "code",
   "execution_count": 3,
   "metadata": {
    "tags": []
   },
   "outputs": [],
   "source": [
    "importlib.reload(order_book.transformation)\n",
    "from order_book.transformation import *\n",
    "\n",
    "importlib.reload(ml_model.test_model)\n",
    "from ml_model.test_model import *"
>>>>>>> 5030aa3be7eac3a826beb0c01e0393183a4fb0db
   ]
  },
  {
   "cell_type": "code",
<<<<<<< HEAD
   "execution_count": null,
   "id": "713c77e0",
   "metadata": {},
   "outputs": [],
   "source": [
    "\"\"\"\n",
    "Ideas:\n",
    "Include ob of hourly and all 4 quarter hourly products\n",
    "\n",
    "\n",
    "\n",
    "\n",
    "Model Input:\n",
    "Ob Vector:\n",
    "Information: TtD, DoW, Price, Spread\n",
    "Bids: [0% - 2%], [2% - 5%],[5% - 10%], [10% - 20%], [20% - 50%], [50% - infty]\n",
    "Asks: [0% - 2%], [2% - 5%],[5% - 10%], [10% - 20%], [20% - 50%], [50% - infty]\n",
    "\n",
    "\n",
    "\n",
    "\n",
    "\n",
    "\n",
    "\n",
    "\n",
    "\"\"\""
=======
   "execution_count": 4,
   "metadata": {
    "tags": []
   },
   "outputs": [],
   "source": [
    "dl = DataLoader()"
>>>>>>> 5030aa3be7eac3a826beb0c01e0393183a4fb0db
   ]
  },
  {
   "cell_type": "code",
<<<<<<< HEAD
   "execution_count": null,
   "id": "f13eb3d6",
   "metadata": {},
   "outputs": [],
   "source": []
  },
  {
   "cell_type": "code",
   "execution_count": 85,
   "id": "a6bdc927",
   "metadata": {},
   "outputs": [
    {
     "ename": "KeyError",
     "evalue": "0",
     "output_type": "error",
     "traceback": [
      "\u001b[0;31m---------------------------------------------------------------------------\u001b[0m",
      "\u001b[0;31mValueError\u001b[0m                                Traceback (most recent call last)",
      "File \u001b[0;32m/opt/anaconda3/envs/winfo/lib/python3.9/site-packages/pandas/core/indexes/range.py:413\u001b[0m, in \u001b[0;36mRangeIndex.get_loc\u001b[0;34m(self, key)\u001b[0m\n\u001b[1;32m    412\u001b[0m \u001b[38;5;28;01mtry\u001b[39;00m:\n\u001b[0;32m--> 413\u001b[0m     \u001b[38;5;28;01mreturn\u001b[39;00m \u001b[38;5;28;43mself\u001b[39;49m\u001b[38;5;241;43m.\u001b[39;49m\u001b[43m_range\u001b[49m\u001b[38;5;241;43m.\u001b[39;49m\u001b[43mindex\u001b[49m\u001b[43m(\u001b[49m\u001b[43mnew_key\u001b[49m\u001b[43m)\u001b[49m\n\u001b[1;32m    414\u001b[0m \u001b[38;5;28;01mexcept\u001b[39;00m \u001b[38;5;167;01mValueError\u001b[39;00m \u001b[38;5;28;01mas\u001b[39;00m err:\n",
      "\u001b[0;31mValueError\u001b[0m: 0 is not in range",
      "\nThe above exception was the direct cause of the following exception:\n",
      "\u001b[0;31mKeyError\u001b[0m                                  Traceback (most recent call last)",
      "Cell \u001b[0;32mIn[85], line 6\u001b[0m\n\u001b[1;32m      3\u001b[0m start \u001b[38;5;241m=\u001b[39m datetime(\u001b[38;5;241m2024\u001b[39m, \u001b[38;5;241m1\u001b[39m, \u001b[38;5;241m4\u001b[39m, \u001b[38;5;241m20\u001b[39m, \u001b[38;5;241m15\u001b[39m)\n\u001b[1;32m      4\u001b[0m end \u001b[38;5;241m=\u001b[39m datetime(\u001b[38;5;241m2024\u001b[39m, \u001b[38;5;241m1\u001b[39m, \u001b[38;5;241m4\u001b[39m, \u001b[38;5;241m21\u001b[39m, \u001b[38;5;241m0\u001b[39m)\n\u001b[0;32m----> 6\u001b[0m order_data \u001b[38;5;241m=\u001b[39m \u001b[43mdl\u001b[49m\u001b[38;5;241;43m.\u001b[39;49m\u001b[43mget_raw_product_orders\u001b[49m\u001b[43m(\u001b[49m\u001b[43mstart\u001b[49m\u001b[43m,\u001b[49m\u001b[43m \u001b[49m\u001b[43mend\u001b[49m\u001b[43m)\u001b[49m\n",
      "File \u001b[0;32m~/Documents/TUM/semester8/entrix/ml-w-lobs/order_book/loader.py:58\u001b[0m, in \u001b[0;36mDataLoader.get_raw_product_orders\u001b[0;34m(self, deliverystart, deliveryend)\u001b[0m\n\u001b[1;32m     55\u001b[0m order_data \u001b[38;5;241m=\u001b[39m  wr\u001b[38;5;241m.\u001b[39mathena\u001b[38;5;241m.\u001b[39mread_sql_query(query, database)\n\u001b[1;32m     56\u001b[0m order_data\u001b[38;5;241m.\u001b[39mcolumns \u001b[38;5;241m=\u001b[39m \u001b[38;5;28mself\u001b[39m\u001b[38;5;241m.\u001b[39mcolumns\n\u001b[0;32m---> 58\u001b[0m \u001b[38;5;28;43mself\u001b[39;49m\u001b[38;5;241;43m.\u001b[39;49m\u001b[43mstore_product_orders\u001b[49m\u001b[43m(\u001b[49m\u001b[43morder_data\u001b[49m\u001b[43m)\u001b[49m\n\u001b[1;32m     60\u001b[0m \u001b[38;5;28;01mreturn\u001b[39;00m order_data\n",
      "File \u001b[0;32m~/Documents/TUM/semester8/entrix/ml-w-lobs/order_book/loader.py:128\u001b[0m, in \u001b[0;36mDataLoader.store_product_orders\u001b[0;34m(self, order_data)\u001b[0m\n\u001b[1;32m    125\u001b[0m \u001b[38;5;28;01mdef\u001b[39;00m \u001b[38;5;21mstore_product_orders\u001b[39m(\u001b[38;5;28mself\u001b[39m, order_data):\n\u001b[0;32m--> 128\u001b[0m     deliverystart \u001b[38;5;241m=\u001b[39m datetime\u001b[38;5;241m.\u001b[39mstrptime(\u001b[43morder_data\u001b[49m\u001b[43m[\u001b[49m\u001b[38;5;124;43m\"\u001b[39;49m\u001b[38;5;124;43mDeliveryStart\u001b[39;49m\u001b[38;5;124;43m\"\u001b[39;49m\u001b[43m]\u001b[49m\u001b[43m[\u001b[49m\u001b[38;5;241;43m0\u001b[39;49m\u001b[43m]\u001b[49m, \u001b[38;5;124m\"\u001b[39m\u001b[38;5;124m%\u001b[39m\u001b[38;5;124mY-\u001b[39m\u001b[38;5;124m%\u001b[39m\u001b[38;5;124mm-\u001b[39m\u001b[38;5;132;01m%d\u001b[39;00m\u001b[38;5;124mT\u001b[39m\u001b[38;5;124m%\u001b[39m\u001b[38;5;124mH:\u001b[39m\u001b[38;5;124m%\u001b[39m\u001b[38;5;124mM:\u001b[39m\u001b[38;5;124m%\u001b[39m\u001b[38;5;124mSZ\u001b[39m\u001b[38;5;124m\"\u001b[39m)\n\u001b[1;32m    130\u001b[0m     deliveryend \u001b[38;5;241m=\u001b[39m datetime\u001b[38;5;241m.\u001b[39mstrptime(order_data[\u001b[38;5;124m\"\u001b[39m\u001b[38;5;124mDeliveryEnd\u001b[39m\u001b[38;5;124m\"\u001b[39m][\u001b[38;5;241m0\u001b[39m], \u001b[38;5;124m\"\u001b[39m\u001b[38;5;124m%\u001b[39m\u001b[38;5;124mY-\u001b[39m\u001b[38;5;124m%\u001b[39m\u001b[38;5;124mm-\u001b[39m\u001b[38;5;132;01m%d\u001b[39;00m\u001b[38;5;124mT\u001b[39m\u001b[38;5;124m%\u001b[39m\u001b[38;5;124mH:\u001b[39m\u001b[38;5;124m%\u001b[39m\u001b[38;5;124mM:\u001b[39m\u001b[38;5;124m%\u001b[39m\u001b[38;5;124mSZ\u001b[39m\u001b[38;5;124m\"\u001b[39m)\n\u001b[1;32m    132\u001b[0m     folder_name, file_name \u001b[38;5;241m=\u001b[39m \u001b[38;5;28mself\u001b[39m\u001b[38;5;241m.\u001b[39mget_local_file_path(deliverystart, deliveryend)\n",
      "File \u001b[0;32m/opt/anaconda3/envs/winfo/lib/python3.9/site-packages/pandas/core/series.py:1112\u001b[0m, in \u001b[0;36mSeries.__getitem__\u001b[0;34m(self, key)\u001b[0m\n\u001b[1;32m   1109\u001b[0m     \u001b[38;5;28;01mreturn\u001b[39;00m \u001b[38;5;28mself\u001b[39m\u001b[38;5;241m.\u001b[39m_values[key]\n\u001b[1;32m   1111\u001b[0m \u001b[38;5;28;01melif\u001b[39;00m key_is_scalar:\n\u001b[0;32m-> 1112\u001b[0m     \u001b[38;5;28;01mreturn\u001b[39;00m \u001b[38;5;28;43mself\u001b[39;49m\u001b[38;5;241;43m.\u001b[39;49m\u001b[43m_get_value\u001b[49m\u001b[43m(\u001b[49m\u001b[43mkey\u001b[49m\u001b[43m)\u001b[49m\n\u001b[1;32m   1114\u001b[0m \u001b[38;5;66;03m# Convert generator to list before going through hashable part\u001b[39;00m\n\u001b[1;32m   1115\u001b[0m \u001b[38;5;66;03m# (We will iterate through the generator there to check for slices)\u001b[39;00m\n\u001b[1;32m   1116\u001b[0m \u001b[38;5;28;01mif\u001b[39;00m is_iterator(key):\n",
      "File \u001b[0;32m/opt/anaconda3/envs/winfo/lib/python3.9/site-packages/pandas/core/series.py:1228\u001b[0m, in \u001b[0;36mSeries._get_value\u001b[0;34m(self, label, takeable)\u001b[0m\n\u001b[1;32m   1225\u001b[0m     \u001b[38;5;28;01mreturn\u001b[39;00m \u001b[38;5;28mself\u001b[39m\u001b[38;5;241m.\u001b[39m_values[label]\n\u001b[1;32m   1227\u001b[0m \u001b[38;5;66;03m# Similar to Index.get_value, but we do not fall back to positional\u001b[39;00m\n\u001b[0;32m-> 1228\u001b[0m loc \u001b[38;5;241m=\u001b[39m \u001b[38;5;28;43mself\u001b[39;49m\u001b[38;5;241;43m.\u001b[39;49m\u001b[43mindex\u001b[49m\u001b[38;5;241;43m.\u001b[39;49m\u001b[43mget_loc\u001b[49m\u001b[43m(\u001b[49m\u001b[43mlabel\u001b[49m\u001b[43m)\u001b[49m\n\u001b[1;32m   1230\u001b[0m \u001b[38;5;28;01mif\u001b[39;00m is_integer(loc):\n\u001b[1;32m   1231\u001b[0m     \u001b[38;5;28;01mreturn\u001b[39;00m \u001b[38;5;28mself\u001b[39m\u001b[38;5;241m.\u001b[39m_values[loc]\n",
      "File \u001b[0;32m/opt/anaconda3/envs/winfo/lib/python3.9/site-packages/pandas/core/indexes/range.py:415\u001b[0m, in \u001b[0;36mRangeIndex.get_loc\u001b[0;34m(self, key)\u001b[0m\n\u001b[1;32m    413\u001b[0m         \u001b[38;5;28;01mreturn\u001b[39;00m \u001b[38;5;28mself\u001b[39m\u001b[38;5;241m.\u001b[39m_range\u001b[38;5;241m.\u001b[39mindex(new_key)\n\u001b[1;32m    414\u001b[0m     \u001b[38;5;28;01mexcept\u001b[39;00m \u001b[38;5;167;01mValueError\u001b[39;00m \u001b[38;5;28;01mas\u001b[39;00m err:\n\u001b[0;32m--> 415\u001b[0m         \u001b[38;5;28;01mraise\u001b[39;00m \u001b[38;5;167;01mKeyError\u001b[39;00m(key) \u001b[38;5;28;01mfrom\u001b[39;00m \u001b[38;5;21;01merr\u001b[39;00m\n\u001b[1;32m    416\u001b[0m \u001b[38;5;28;01mif\u001b[39;00m \u001b[38;5;28misinstance\u001b[39m(key, Hashable):\n\u001b[1;32m    417\u001b[0m     \u001b[38;5;28;01mraise\u001b[39;00m \u001b[38;5;167;01mKeyError\u001b[39;00m(key)\n",
      "\u001b[0;31mKeyError\u001b[0m: 0"
     ]
    }
   ],
   "source": [
    "dl = DataLoader()\n",
    "\n",
    "start = datetime(2024, 1, 4, 20, 15)\n",
    "end = datetime(2024, 1, 4, 21, 0)\n",
=======
   "execution_count": 10,
   "metadata": {},
   "outputs": [],
   "source": [
    "for i in range(1,32,1):\n",
    "    start = datetime(2024, 1, i, 20)\n",
    "    end = datetime(2024, 1, i, 21)\n",
    "\n",
    "    order_data = dl.get_raw_product_orders(start, end)"
   ]
  },
  {
   "cell_type": "code",
   "execution_count": 6,
   "metadata": {
    "tags": []
   },
   "outputs": [],
   "source": [
    "start = datetime(2024, 1, 5, 20)\n",
    "end = datetime(2024, 1, 5, 21)\n",
>>>>>>> 5030aa3be7eac3a826beb0c01e0393183a4fb0db
    "\n",
    "order_data = dl.get_raw_product_orders(start, end)"
   ]
  },
  {
   "cell_type": "code",
<<<<<<< HEAD
   "execution_count": 84,
   "id": "ce693240",
   "metadata": {},
   "outputs": [
    {
     "data": {
      "text/plain": [
       "array(['DE2', 'DE3', 'DE4', 'DE1'], dtype=object)"
      ]
     },
     "execution_count": 84,
     "metadata": {},
     "output_type": "execute_result"
    }
   ],
   "source": [
    "order_data[\"DeliveryArea\"].unique()"
   ]
  },
  {
   "cell_type": "markdown",
   "id": "6271edca",
   "metadata": {},
   "source": [
    "### Data Transformation"
   ]
  },
  {
   "cell_type": "code",
   "execution_count": null,
   "id": "55ed213d",
   "metadata": {},
   "outputs": [],
   "source": []
  },
  {
   "cell_type": "code",
   "execution_count": 43,
   "id": "d642407c",
   "metadata": {},
=======
   "execution_count": 10,
   "metadata": {
    "tags": []
   },
>>>>>>> 5030aa3be7eac3a826beb0c01e0393183a4fb0db
   "outputs": [],
   "source": [
    "num_orders = 5\n",
    "num_obs = 5\n",
    "horizons = 4\n",
    "ticks = 1000"
   ]
  },
  {
<<<<<<< HEAD
   "cell_type": "code",
   "execution_count": 44,
   "id": "29c947ec",
   "metadata": {},
=======
   "cell_type": "markdown",
   "metadata": {},
   "source": [
    "### Visualization"
   ]
  },
  {
   "cell_type": "code",
   "execution_count": 11,
   "metadata": {
    "tags": []
   },
>>>>>>> 5030aa3be7eac3a826beb0c01e0393183a4fb0db
   "outputs": [],
   "source": [
    "ob_series = to_ob_series_by_ticks(order_data, num_orders=num_orders, ticks=ticks)"
   ]
  },
  {
   "cell_type": "code",
<<<<<<< HEAD
   "execution_count": 45,
   "id": "04e069db",
   "metadata": {},
   "outputs": [
    {
     "name": "stderr",
     "output_type": "stream",
     "text": [
      "/Users/henryhenryson/Documents/TUM/semester8/entrix/ml-w-lobs/order_book/transformation.py:183: VisibleDeprecationWarning: Creating an ndarray from ragged nested sequences (which is a list-or-tuple of lists-or-tuples-or ndarrays with different lengths or shapes) is deprecated. If you meant to do this, you must specify 'dtype=object' when creating the ndarray.\n",
      "  return np.array(trends)\n"
     ]
    }
   ],
=======
   "execution_count": 12,
   "metadata": {
    "tags": []
   },
   "outputs": [],
>>>>>>> 5030aa3be7eac3a826beb0c01e0393183a4fb0db
   "source": [
    "price_trends = get_price_trends(ob_series, horizons=horizons)"
   ]
  },
  {
   "cell_type": "code",
<<<<<<< HEAD
   "execution_count": 46,
   "id": "eef94d55",
   "metadata": {},
=======
   "execution_count": 13,
   "metadata": {
    "tags": []
   },
>>>>>>> 5030aa3be7eac3a826beb0c01e0393183a4fb0db
   "outputs": [],
   "source": [
    "ob_vectors, change_vectors = ob_series_to_vectors(ob_series)"
   ]
  },
  {
   "cell_type": "code",
<<<<<<< HEAD
   "execution_count": 66,
   "id": "f2715056",
   "metadata": {},
   "outputs": [],
   "source": [
    "encoder_input, decoder_output = vecs_to_model_input(change_vectors, num_obs, price_trends, horizons)\n",
    "decoder_input = np.array([np.array([decoder_output[0][0]]) if i == 0 else np.array([decoder_output[i-1][0]]) for i in range(len(encoder_input))])"
=======
   "execution_count": 20,
   "metadata": {
    "tags": []
   },
   "outputs": [],
   "source": [
    "x_data, y_data = vecs_to_model_input(change_vectors, num_obs, price_trends, horizons)"
>>>>>>> 5030aa3be7eac3a826beb0c01e0393183a4fb0db
   ]
  },
  {
   "cell_type": "code",
<<<<<<< HEAD
   "execution_count": 67,
   "id": "fa4522fe",
   "metadata": {},
   "outputs": [
    {
     "data": {
      "text/plain": [
       "(103, 1, 3)"
      ]
     },
     "execution_count": 67,
     "metadata": {},
     "output_type": "execute_result"
    }
   ],
   "source": [
    "decoder_input.shape"
   ]
  },
  {
   "cell_type": "code",
   "execution_count": 68,
   "id": "a8a7b533",
   "metadata": {},
   "outputs": [
    {
     "data": {
      "image/png": "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",
=======
   "execution_count": 15,
   "metadata": {
    "tags": []
   },
   "outputs": [
    {
     "data": {
      "image/png": "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",
>>>>>>> 5030aa3be7eac3a826beb0c01e0393183a4fb0db
      "text/plain": [
       "<Figure size 640x480 with 2 Axes>"
      ]
     },
     "metadata": {},
     "output_type": "display_data"
    }
   ],
   "source": [
    "plt.imshow(x_data[2].T, cmap='hot', interpolation='nearest', origin='lower', vmax=4)\n",
    "\n",
    "# Adding color bar to show the scale\n",
    "plt.colorbar()\n",
    "\n",
    "# Adding labels\n",
    "plt.xlabel('Vector Components')\n",
    "plt.ylabel('Vectors')\n",
    "plt.title('Heatmap of Vectors')\n",
    "\n",
    "# Display the heatmap\n",
    "plt.show()"
   ]
  },
  {
   "cell_type": "markdown",
<<<<<<< HEAD
   "id": "bd247d6d",
=======
>>>>>>> 5030aa3be7eac3a826beb0c01e0393183a4fb0db
   "metadata": {},
   "source": [
    "### Training"
   ]
  },
  {
   "cell_type": "code",
<<<<<<< HEAD
   "execution_count": 69,
   "id": "c2284ea3",
   "metadata": {},
=======
   "execution_count": 16,
   "metadata": {
    "tags": []
   },
>>>>>>> 5030aa3be7eac3a826beb0c01e0393183a4fb0db
   "outputs": [],
   "source": [
    "# Set seeds for reproducibility\n",
    "np.random.seed(42)\n",
    "tf.random.set_seed(42)"
   ]
  },
  {
<<<<<<< HEAD
   "cell_type": "markdown",
   "id": "077019dd",
   "metadata": {},
   "source": [
    "#### Seq2Seq"
   ]
  },
  {
   "cell_type": "code",
   "execution_count": 78,
   "id": "728a19b7",
   "metadata": {},
   "outputs": [
    {
     "name": "stderr",
     "output_type": "stream",
     "text": [
      "2024-05-28 12:05:43.369779: I tensorflow/core/common_runtime/executor.cc:1197] [/device:CPU:0] (DEBUG INFO) Executor start aborting (this does not indicate an error and you can ignore this message): INVALID_ARGUMENT: You must feed a value for placeholder tensor 'gradients/split_2_grad/concat/split_2/split_dim' with dtype int32\n",
      "\t [[{{node gradients/split_2_grad/concat/split_2/split_dim}}]]\n",
      "2024-05-28 12:05:43.371355: I tensorflow/core/common_runtime/executor.cc:1197] [/device:CPU:0] (DEBUG INFO) Executor start aborting (this does not indicate an error and you can ignore this message): INVALID_ARGUMENT: You must feed a value for placeholder tensor 'gradients/split_grad/concat/split/split_dim' with dtype int32\n",
      "\t [[{{node gradients/split_grad/concat/split/split_dim}}]]\n",
      "2024-05-28 12:05:43.372434: I tensorflow/core/common_runtime/executor.cc:1197] [/device:CPU:0] (DEBUG INFO) Executor start aborting (this does not indicate an error and you can ignore this message): INVALID_ARGUMENT: You must feed a value for placeholder tensor 'gradients/split_1_grad/concat/split_1/split_dim' with dtype int32\n",
      "\t [[{{node gradients/split_1_grad/concat/split_1/split_dim}}]]\n",
      "2024-05-28 12:05:43.561267: I tensorflow/core/common_runtime/executor.cc:1197] [/device:CPU:0] (DEBUG INFO) Executor start aborting (this does not indicate an error and you can ignore this message): INVALID_ARGUMENT: You must feed a value for placeholder tensor 'gradients/split_2_grad/concat/split_2/split_dim' with dtype int32\n",
      "\t [[{{node gradients/split_2_grad/concat/split_2/split_dim}}]]\n",
      "2024-05-28 12:05:43.562496: I tensorflow/core/common_runtime/executor.cc:1197] [/device:CPU:0] (DEBUG INFO) Executor start aborting (this does not indicate an error and you can ignore this message): INVALID_ARGUMENT: You must feed a value for placeholder tensor 'gradients/split_grad/concat/split/split_dim' with dtype int32\n",
      "\t [[{{node gradients/split_grad/concat/split/split_dim}}]]\n",
      "2024-05-28 12:05:43.563642: I tensorflow/core/common_runtime/executor.cc:1197] [/device:CPU:0] (DEBUG INFO) Executor start aborting (this does not indicate an error and you can ignore this message): INVALID_ARGUMENT: You must feed a value for placeholder tensor 'gradients/split_1_grad/concat/split_1/split_dim' with dtype int32\n",
      "\t [[{{node gradients/split_1_grad/concat/split_1/split_dim}}]]\n",
      "2024-05-28 12:05:43.754915: I tensorflow/core/common_runtime/executor.cc:1197] [/device:CPU:0] (DEBUG INFO) Executor start aborting (this does not indicate an error and you can ignore this message): INVALID_ARGUMENT: You must feed a value for placeholder tensor 'gradients/split_2_grad/concat/split_2/split_dim' with dtype int32\n",
      "\t [[{{node gradients/split_2_grad/concat/split_2/split_dim}}]]\n",
      "2024-05-28 12:05:43.756346: I tensorflow/core/common_runtime/executor.cc:1197] [/device:CPU:0] (DEBUG INFO) Executor start aborting (this does not indicate an error and you can ignore this message): INVALID_ARGUMENT: You must feed a value for placeholder tensor 'gradients/split_grad/concat/split/split_dim' with dtype int32\n",
      "\t [[{{node gradients/split_grad/concat/split/split_dim}}]]\n",
      "2024-05-28 12:05:43.757383: I tensorflow/core/common_runtime/executor.cc:1197] [/device:CPU:0] (DEBUG INFO) Executor start aborting (this does not indicate an error and you can ignore this message): INVALID_ARGUMENT: You must feed a value for placeholder tensor 'gradients/split_1_grad/concat/split_1/split_dim' with dtype int32\n",
      "\t [[{{node gradients/split_1_grad/concat/split_1/split_dim}}]]\n",
      "2024-05-28 12:05:43.942844: I tensorflow/core/common_runtime/executor.cc:1197] [/device:CPU:0] (DEBUG INFO) Executor start aborting (this does not indicate an error and you can ignore this message): INVALID_ARGUMENT: You must feed a value for placeholder tensor 'gradients/split_2_grad/concat/split_2/split_dim' with dtype int32\n",
      "\t [[{{node gradients/split_2_grad/concat/split_2/split_dim}}]]\n",
      "2024-05-28 12:05:43.944066: I tensorflow/core/common_runtime/executor.cc:1197] [/device:CPU:0] (DEBUG INFO) Executor start aborting (this does not indicate an error and you can ignore this message): INVALID_ARGUMENT: You must feed a value for placeholder tensor 'gradients/split_grad/concat/split/split_dim' with dtype int32\n",
      "\t [[{{node gradients/split_grad/concat/split/split_dim}}]]\n",
      "2024-05-28 12:05:43.945074: I tensorflow/core/common_runtime/executor.cc:1197] [/device:CPU:0] (DEBUG INFO) Executor start aborting (this does not indicate an error and you can ignore this message): INVALID_ARGUMENT: You must feed a value for placeholder tensor 'gradients/split_1_grad/concat/split_1/split_dim' with dtype int32\n",
      "\t [[{{node gradients/split_1_grad/concat/split_1/split_dim}}]]\n"
     ]
    },
    {
     "name": "stdout",
     "output_type": "stream",
     "text": [
      "Model: \"model_7\"\n",
      "__________________________________________________________________________________________________\n",
      " Layer (type)                   Output Shape         Param #     Connected to                     \n",
      "==================================================================================================\n",
      " input_33 (InputLayer)          [(None, 5, 20)]      0           []                               \n",
      "                                                                                                  \n",
      " lstm_32 (LSTM)                 [(None, 16),         2368        ['input_33[0][0]']               \n",
      "                                 (None, 16),                                                      \n",
      "                                 (None, 16)]                                                      \n",
      "                                                                                                  \n",
      " input_34 (InputLayer)          [(None, 1, 3)]       0           []                               \n",
      "                                                                                                  \n",
      " reshape_10 (Reshape)           (None, 1, 16)        0           ['lstm_32[0][0]']                \n",
      "                                                                                                  \n",
      " concatenate_77 (Concatenate)   (None, 1, 19)        0           ['input_34[0][0]',               \n",
      "                                                                  'reshape_10[0][0]']             \n",
      "                                                                                                  \n",
      " lstm_33 (LSTM)                 [(None, 1, 16),      2304        ['concatenate_77[0][0]',         \n",
      "                                 (None, 16),                      'lstm_32[0][1]',                \n",
      "                                 (None, 16)]                      'lstm_32[0][2]',                \n",
      "                                                                  'concatenate_79[0][0]',         \n",
      "                                                                  'lstm_33[0][1]',                \n",
      "                                                                  'lstm_33[0][2]',                \n",
      "                                                                  'concatenate_81[0][0]',         \n",
      "                                                                  'lstm_33[1][1]',                \n",
      "                                                                  'lstm_33[1][2]',                \n",
      "                                                                  'concatenate_83[0][0]',         \n",
      "                                                                  'lstm_33[2][1]',                \n",
      "                                                                  'lstm_33[2][2]']                \n",
      "                                                                                                  \n",
      " concatenate_78 (Concatenate)   (None, 1, 32)        0           ['lstm_33[0][0]',                \n",
      "                                                                  'reshape_10[0][0]']             \n",
      "                                                                                                  \n",
      " dense_16 (Dense)               (None, 1, 3)         99          ['concatenate_78[0][0]',         \n",
      "                                                                  'concatenate_80[0][0]',         \n",
      "                                                                  'concatenate_82[0][0]',         \n",
      "                                                                  'concatenate_84[0][0]']         \n",
      "                                                                                                  \n",
      " concatenate_79 (Concatenate)   (None, 1, 19)        0           ['dense_16[0][0]',               \n",
      "                                                                  'reshape_10[0][0]']             \n",
      "                                                                                                  \n",
      " concatenate_80 (Concatenate)   (None, 1, 32)        0           ['lstm_33[1][0]',                \n",
      "                                                                  'reshape_10[0][0]']             \n",
      "                                                                                                  \n",
      " concatenate_81 (Concatenate)   (None, 1, 19)        0           ['dense_16[1][0]',               \n",
      "                                                                  'reshape_10[0][0]']             \n",
      "                                                                                                  \n",
      " concatenate_82 (Concatenate)   (None, 1, 32)        0           ['lstm_33[2][0]',                \n",
      "                                                                  'reshape_10[0][0]']             \n",
      "                                                                                                  \n",
      " concatenate_83 (Concatenate)   (None, 1, 19)        0           ['dense_16[2][0]',               \n",
      "                                                                  'reshape_10[0][0]']             \n",
      "                                                                                                  \n",
      " concatenate_84 (Concatenate)   (None, 1, 32)        0           ['lstm_33[3][0]',                \n",
      "                                                                  'reshape_10[0][0]']             \n",
      "                                                                                                  \n",
      " concatenate_86 (Concatenate)   (None, 4, 3)         0           ['dense_16[0][0]',               \n",
      "                                                                  'dense_16[1][0]',               \n",
      "                                                                  'dense_16[2][0]',               \n",
      "                                                                  'dense_16[3][0]']               \n",
      "                                                                                                  \n",
      "==================================================================================================\n",
      "Total params: 4,771\n",
      "Trainable params: 4,771\n",
      "Non-trainable params: 0\n",
      "__________________________________________________________________________________________________\n"
     ]
    },
    {
     "name": "stderr",
     "output_type": "stream",
     "text": [
      "2024-05-28 12:05:44.136763: I tensorflow/core/common_runtime/executor.cc:1197] [/device:CPU:0] (DEBUG INFO) Executor start aborting (this does not indicate an error and you can ignore this message): INVALID_ARGUMENT: You must feed a value for placeholder tensor 'gradients/split_2_grad/concat/split_2/split_dim' with dtype int32\n",
      "\t [[{{node gradients/split_2_grad/concat/split_2/split_dim}}]]\n",
      "2024-05-28 12:05:44.138175: I tensorflow/core/common_runtime/executor.cc:1197] [/device:CPU:0] (DEBUG INFO) Executor start aborting (this does not indicate an error and you can ignore this message): INVALID_ARGUMENT: You must feed a value for placeholder tensor 'gradients/split_grad/concat/split/split_dim' with dtype int32\n",
      "\t [[{{node gradients/split_grad/concat/split/split_dim}}]]\n",
      "2024-05-28 12:05:44.139219: I tensorflow/core/common_runtime/executor.cc:1197] [/device:CPU:0] (DEBUG INFO) Executor start aborting (this does not indicate an error and you can ignore this message): INVALID_ARGUMENT: You must feed a value for placeholder tensor 'gradients/split_1_grad/concat/split_1/split_dim' with dtype int32\n",
      "\t [[{{node gradients/split_1_grad/concat/split_1/split_dim}}]]\n"
     ]
    }
   ],
   "source": [
    "n_hidden = 16\n",
    "\n",
    "seq2seq_model = get_seq2seq_model(\n",
    "    num_obs = num_obs, \n",
    "    num_orders=num_orders, \n",
    "    horizons=horizons, \n",
    "    latent_dim=n_hidden)\n",
    "\n",
    "seq2seq_model.compile(loss='categorical_crossentropy', metrics=['accuracy'], optimizer='adam')\n",
    "\n",
    "seq2seq_model.summary()"
   ]
  },
  {
   "cell_type": "code",
   "execution_count": 79,
   "id": "56fa5c90",
   "metadata": {},
   "outputs": [
    {
     "name": "stdout",
     "output_type": "stream",
     "text": [
      "Epoch 1/50\n",
      "2/2 [==============================] - 0s 134ms/step - loss: 1.1250 - accuracy: 0.3157 - val_loss: 1.0913 - val_accuracy: 0.2500\n",
      "Epoch 2/50\n",
      "2/2 [==============================] - 0s 105ms/step - loss: 1.1086 - accuracy: 0.3207 - val_loss: 1.0612 - val_accuracy: 0.3333\n",
      "Epoch 3/50\n",
      "2/2 [==============================] - 0s 106ms/step - loss: 1.1004 - accuracy: 0.3687 - val_loss: 1.0496 - val_accuracy: 0.4167\n",
      "Epoch 4/50\n",
      "2/2 [==============================] - 0s 106ms/step - loss: 1.0937 - accuracy: 0.3838 - val_loss: 1.0367 - val_accuracy: 0.4167\n",
      "Epoch 5/50\n",
      "2/2 [==============================] - 0s 105ms/step - loss: 1.0889 - accuracy: 0.4141 - val_loss: 1.0313 - val_accuracy: 0.4167\n",
      "Epoch 6/50\n",
      "2/2 [==============================] - 0s 104ms/step - loss: 1.0853 - accuracy: 0.4141 - val_loss: 1.0236 - val_accuracy: 0.5000\n",
      "Epoch 7/50\n",
      "2/2 [==============================] - 0s 105ms/step - loss: 1.0817 - accuracy: 0.4217 - val_loss: 1.0130 - val_accuracy: 0.5000\n",
      "Epoch 8/50\n",
      "2/2 [==============================] - 0s 105ms/step - loss: 1.0777 - accuracy: 0.4343 - val_loss: 1.0056 - val_accuracy: 0.5000\n",
      "Epoch 9/50\n",
      "2/2 [==============================] - 0s 105ms/step - loss: 1.0733 - accuracy: 0.4444 - val_loss: 1.0035 - val_accuracy: 0.4167\n",
      "Epoch 10/50\n",
      "2/2 [==============================] - 0s 105ms/step - loss: 1.0696 - accuracy: 0.4444 - val_loss: 1.0016 - val_accuracy: 0.4167\n",
      "Epoch 11/50\n",
      "2/2 [==============================] - 0s 107ms/step - loss: 1.0657 - accuracy: 0.4444 - val_loss: 1.0021 - val_accuracy: 0.4167\n",
      "Epoch 12/50\n",
      "2/2 [==============================] - 0s 105ms/step - loss: 1.0620 - accuracy: 0.4444 - val_loss: 1.0058 - val_accuracy: 0.4167\n",
      "Epoch 13/50\n",
      "2/2 [==============================] - 0s 115ms/step - loss: 1.0588 - accuracy: 0.4495 - val_loss: 1.0134 - val_accuracy: 0.4167\n",
      "Epoch 14/50\n",
      "2/2 [==============================] - 0s 105ms/step - loss: 1.0562 - accuracy: 0.4520 - val_loss: 1.0181 - val_accuracy: 0.5000\n",
      "Epoch 15/50\n",
      "2/2 [==============================] - 0s 105ms/step - loss: 1.0525 - accuracy: 0.4495 - val_loss: 1.0164 - val_accuracy: 0.5833\n",
      "Epoch 16/50\n",
      "2/2 [==============================] - 0s 107ms/step - loss: 1.0492 - accuracy: 0.4596 - val_loss: 1.0083 - val_accuracy: 0.5833\n",
      "Epoch 17/50\n",
      "2/2 [==============================] - 0s 108ms/step - loss: 1.0459 - accuracy: 0.4672 - val_loss: 1.0005 - val_accuracy: 0.5833\n",
      "Epoch 18/50\n",
      "2/2 [==============================] - 0s 109ms/step - loss: 1.0427 - accuracy: 0.4773 - val_loss: 0.9956 - val_accuracy: 0.5833\n",
      "Epoch 19/50\n",
      "2/2 [==============================] - 0s 110ms/step - loss: 1.0392 - accuracy: 0.4798 - val_loss: 0.9955 - val_accuracy: 0.5833\n",
      "Epoch 20/50\n",
      "2/2 [==============================] - 0s 107ms/step - loss: 1.0358 - accuracy: 0.4773 - val_loss: 0.9957 - val_accuracy: 0.5833\n",
      "Epoch 21/50\n",
      "2/2 [==============================] - 0s 113ms/step - loss: 1.0324 - accuracy: 0.4747 - val_loss: 1.0006 - val_accuracy: 0.5833\n",
      "Epoch 22/50\n",
      "2/2 [==============================] - 0s 111ms/step - loss: 1.0287 - accuracy: 0.4747 - val_loss: 1.0059 - val_accuracy: 0.5833\n",
      "Epoch 23/50\n",
      "2/2 [==============================] - 0s 115ms/step - loss: 1.0255 - accuracy: 0.4798 - val_loss: 1.0087 - val_accuracy: 0.5833\n",
      "Epoch 24/50\n",
      "2/2 [==============================] - 0s 111ms/step - loss: 1.0217 - accuracy: 0.4798 - val_loss: 1.0143 - val_accuracy: 0.5833\n",
      "Epoch 25/50\n",
      "2/2 [==============================] - 0s 111ms/step - loss: 1.0185 - accuracy: 0.4773 - val_loss: 1.0242 - val_accuracy: 0.5000\n",
      "Epoch 26/50\n",
      "2/2 [==============================] - 0s 108ms/step - loss: 1.0143 - accuracy: 0.4773 - val_loss: 1.0229 - val_accuracy: 0.5833\n",
      "Epoch 27/50\n",
      "2/2 [==============================] - 0s 105ms/step - loss: 1.0100 - accuracy: 0.4924 - val_loss: 1.0169 - val_accuracy: 0.5833\n",
      "Epoch 28/50\n",
      "2/2 [==============================] - 0s 107ms/step - loss: 1.0061 - accuracy: 0.5051 - val_loss: 1.0104 - val_accuracy: 0.5833\n",
      "Epoch 29/50\n",
      "2/2 [==============================] - 0s 111ms/step - loss: 1.0020 - accuracy: 0.5152 - val_loss: 1.0061 - val_accuracy: 0.5833\n",
      "Epoch 30/50\n",
      "2/2 [==============================] - 0s 111ms/step - loss: 0.9974 - accuracy: 0.5152 - val_loss: 1.0124 - val_accuracy: 0.5833\n",
      "Epoch 31/50\n",
      "2/2 [==============================] - 0s 112ms/step - loss: 0.9922 - accuracy: 0.5202 - val_loss: 1.0232 - val_accuracy: 0.5000\n",
      "Epoch 32/50\n",
      "2/2 [==============================] - 0s 109ms/step - loss: 0.9875 - accuracy: 0.5253 - val_loss: 1.0386 - val_accuracy: 0.5000\n",
      "Epoch 33/50\n",
      "2/2 [==============================] - 0s 107ms/step - loss: 0.9827 - accuracy: 0.5354 - val_loss: 1.0517 - val_accuracy: 0.4167\n",
      "Epoch 34/50\n",
      "2/2 [==============================] - 0s 105ms/step - loss: 0.9775 - accuracy: 0.5404 - val_loss: 1.0608 - val_accuracy: 0.4167\n",
      "Epoch 35/50\n",
      "2/2 [==============================] - 0s 109ms/step - loss: 0.9715 - accuracy: 0.5429 - val_loss: 1.0524 - val_accuracy: 0.5000\n",
      "Epoch 36/50\n",
      "2/2 [==============================] - 0s 105ms/step - loss: 0.9650 - accuracy: 0.5455 - val_loss: 1.0360 - val_accuracy: 0.5000\n",
      "Epoch 37/50\n",
      "2/2 [==============================] - 0s 105ms/step - loss: 0.9590 - accuracy: 0.5606 - val_loss: 1.0284 - val_accuracy: 0.5000\n",
      "Epoch 38/50\n",
      "2/2 [==============================] - 0s 106ms/step - loss: 0.9547 - accuracy: 0.5783 - val_loss: 1.0248 - val_accuracy: 0.5000\n",
      "Epoch 39/50\n",
      "2/2 [==============================] - 0s 107ms/step - loss: 0.9462 - accuracy: 0.5909 - val_loss: 1.0599 - val_accuracy: 0.4167\n",
      "Epoch 40/50\n",
      "2/2 [==============================] - 0s 111ms/step - loss: 0.9383 - accuracy: 0.5960 - val_loss: 1.0951 - val_accuracy: 0.4167\n",
      "Epoch 41/50\n",
      "2/2 [==============================] - 0s 112ms/step - loss: 0.9347 - accuracy: 0.5758 - val_loss: 1.1303 - val_accuracy: 0.3333\n",
      "Epoch 42/50\n",
      "2/2 [==============================] - 0s 109ms/step - loss: 0.9268 - accuracy: 0.5682 - val_loss: 1.1031 - val_accuracy: 0.4167\n",
      "Epoch 43/50\n",
      "2/2 [==============================] - 0s 106ms/step - loss: 0.9178 - accuracy: 0.5884 - val_loss: 1.0616 - val_accuracy: 0.4167\n",
      "Epoch 44/50\n",
      "2/2 [==============================] - 0s 113ms/step - loss: 0.9094 - accuracy: 0.6010 - val_loss: 1.0277 - val_accuracy: 0.4167\n",
      "Epoch 45/50\n",
      "2/2 [==============================] - 0s 108ms/step - loss: 0.9043 - accuracy: 0.6263 - val_loss: 1.0272 - val_accuracy: 0.4167\n",
      "Epoch 46/50\n",
      "2/2 [==============================] - 0s 107ms/step - loss: 0.8964 - accuracy: 0.6111 - val_loss: 1.0671 - val_accuracy: 0.4167\n",
      "Epoch 47/50\n",
      "2/2 [==============================] - 0s 114ms/step - loss: 0.8871 - accuracy: 0.6010 - val_loss: 1.1243 - val_accuracy: 0.4167\n",
      "Epoch 48/50\n",
      "2/2 [==============================] - 0s 112ms/step - loss: 0.8771 - accuracy: 0.6061 - val_loss: 1.1647 - val_accuracy: 0.1667\n",
      "Epoch 49/50\n",
      "2/2 [==============================] - 0s 111ms/step - loss: 0.8696 - accuracy: 0.6111 - val_loss: 1.1988 - val_accuracy: 0.1667\n",
      "Epoch 50/50\n",
      "2/2 [==============================] - 0s 121ms/step - loss: 0.8627 - accuracy: 0.6212 - val_loss: 1.1870 - val_accuracy: 0.1667\n"
     ]
    },
    {
     "data": {
      "text/plain": [
       "<keras.callbacks.History at 0x7fc4758a8ac0>"
      ]
     },
     "execution_count": 79,
=======
   "cell_type": "code",
   "execution_count": 24,
   "metadata": {
    "tags": []
   },
   "outputs": [
    {
     "data": {
      "text/plain": [
       "117"
      ]
     },
     "execution_count": 24,
>>>>>>> 5030aa3be7eac3a826beb0c01e0393183a4fb0db
     "metadata": {},
     "output_type": "execute_result"
    }
   ],
   "source": [
<<<<<<< HEAD
    "epochs = 50\n",
    "batch_size = 64\n",
    "val_split = 100\n",
    "\n",
    "encoder_input_train = encoder_input[1:100]\n",
    "decoder_input_train = decoder_input[1:100]\n",
    "decoder_output_train = decoder_output[1:100]\n",
    "\n",
    "enc_in_val = encoder_input[100:]\n",
    "dec_in_val = decoder_input[100:]\n",
    "dec_out_val = decoder_output[100:]\n",
    "\n",
    "\n",
    "seq2seq_model.fit(\n",
    "    [encoder_input_train, decoder_input_train], decoder_output_train,\n",
    "    batch_size=batch_size,\n",
    "    epochs=epochs, verbose=1,\n",
    "    validation_data = ([enc_in_val, dec_in_val], dec_out_val)\n",
    ")"
=======
    "len(x_data)"
>>>>>>> 5030aa3be7eac3a826beb0c01e0393183a4fb0db
   ]
  },
  {
   "cell_type": "code",
<<<<<<< HEAD
   "execution_count": 16,
   "id": "7e091a67",
   "metadata": {},
=======
   "execution_count": 25,
   "metadata": {
    "tags": []
   },
>>>>>>> 5030aa3be7eac3a826beb0c01e0393183a4fb0db
   "outputs": [
    {
     "name": "stdout",
     "output_type": "stream",
     "text": [
<<<<<<< HEAD
      "Epoch 1/15\n"
=======
      "Epoch 1/10\n"
>>>>>>> 5030aa3be7eac3a826beb0c01e0393183a4fb0db
     ]
    },
    {
     "name": "stderr",
     "output_type": "stream",
     "text": [
<<<<<<< HEAD
      "/opt/anaconda3/envs/winfo/lib/python3.9/site-packages/tensorflow/python/data/ops/structured_function.py:254: UserWarning: Even though the `tf.config.experimental_run_functions_eagerly` option is set, this option does not apply to tf.data functions. To force eager execution of tf.data functions, please use `tf.data.experimental.enable_debug_mode()`.\n",
=======
      "/home/ec2-user/anaconda3/envs/tensorflow2_p310/lib/python3.10/site-packages/tensorflow/python/data/ops/structured_function.py:258: UserWarning: Even though the `tf.config.experimental_run_functions_eagerly` option is set, this option does not apply to tf.data functions. To force eager execution of tf.data functions, please use `tf.data.experimental.enable_debug_mode()`.\n",
>>>>>>> 5030aa3be7eac3a826beb0c01e0393183a4fb0db
      "  warnings.warn(\n"
     ]
    },
    {
     "name": "stdout",
     "output_type": "stream",
     "text": [
<<<<<<< HEAD
      "4/4 [==============================] - 3s 641ms/step - loss: 3.2198 - accuracy: 0.3775 - val_loss: 2.0352 - val_accuracy: 0.4475\n",
      "Epoch 2/15\n",
      "4/4 [==============================] - 2s 613ms/step - loss: 1.6347 - accuracy: 0.4375 - val_loss: 1.0269 - val_accuracy: 0.5175\n",
      "Epoch 3/15\n",
      "4/4 [==============================] - 2s 568ms/step - loss: 0.9780 - accuracy: 0.5600 - val_loss: 0.8390 - val_accuracy: 0.5975\n",
      "Epoch 4/15\n",
      "4/4 [==============================] - 2s 620ms/step - loss: 0.8202 - accuracy: 0.6175 - val_loss: 0.7393 - val_accuracy: 0.6925\n",
      "Epoch 5/15\n",
      "4/4 [==============================] - 2s 606ms/step - loss: 0.7311 - accuracy: 0.6925 - val_loss: 0.6661 - val_accuracy: 0.7775\n",
      "Epoch 6/15\n",
      "4/4 [==============================] - 2s 608ms/step - loss: 0.6461 - accuracy: 0.7650 - val_loss: 0.5532 - val_accuracy: 0.8200\n",
      "Epoch 7/15\n",
      "4/4 [==============================] - 2s 616ms/step - loss: 0.5352 - accuracy: 0.8500 - val_loss: 0.4381 - val_accuracy: 0.9375\n",
      "Epoch 8/15\n",
      "4/4 [==============================] - 2s 616ms/step - loss: 0.4176 - accuracy: 0.9375 - val_loss: 0.3342 - val_accuracy: 0.9600\n",
      "Epoch 9/15\n",
      "4/4 [==============================] - 3s 633ms/step - loss: 0.3229 - accuracy: 0.9500 - val_loss: 0.2315 - val_accuracy: 0.9750\n",
      "Epoch 10/15\n",
      "4/4 [==============================] - 3s 625ms/step - loss: 0.2448 - accuracy: 0.9525 - val_loss: 0.1692 - val_accuracy: 0.9875\n",
      "Epoch 11/15\n",
      "4/4 [==============================] - 2s 605ms/step - loss: 0.1693 - accuracy: 0.9750 - val_loss: 0.1374 - val_accuracy: 0.9775\n",
      "Epoch 12/15\n",
      "4/4 [==============================] - 2s 608ms/step - loss: 0.1492 - accuracy: 0.9675 - val_loss: 0.0849 - val_accuracy: 0.9950\n",
      "Epoch 13/15\n",
      "4/4 [==============================] - 2s 616ms/step - loss: 0.1041 - accuracy: 0.9925 - val_loss: 0.0759 - val_accuracy: 1.0000\n",
      "Epoch 14/15\n",
      "4/4 [==============================] - 2s 621ms/step - loss: 0.0697 - accuracy: 1.0000 - val_loss: 0.0597 - val_accuracy: 0.9975\n",
      "Epoch 15/15\n",
      "4/4 [==============================] - 2s 606ms/step - loss: 0.0530 - accuracy: 1.0000 - val_loss: 0.0321 - val_accuracy: 1.0000\n"
=======
      "4/4 [==============================] - 12s 3s/step - loss: 3.0503 - accuracy: 0.3550\n",
      "Epoch 2/10\n",
      "4/4 [==============================] - 11s 3s/step - loss: 1.3046 - accuracy: 0.4025\n",
      "Epoch 3/10\n",
      "4/4 [==============================] - 11s 3s/step - loss: 0.9230 - accuracy: 0.5025\n",
      "Epoch 4/10\n",
      "4/4 [==============================] - 11s 3s/step - loss: 0.7708 - accuracy: 0.6325\n",
      "Epoch 5/10\n",
      "4/4 [==============================] - 11s 3s/step - loss: 0.6710 - accuracy: 0.7125\n",
      "Epoch 6/10\n",
      "4/4 [==============================] - 11s 3s/step - loss: 0.5757 - accuracy: 0.7750\n",
      "Epoch 7/10\n",
      "4/4 [==============================] - 11s 3s/step - loss: 0.4514 - accuracy: 0.9000\n",
      "Epoch 8/10\n",
      "4/4 [==============================] - 11s 3s/step - loss: 0.3754 - accuracy: 0.9150\n",
      "Epoch 9/10\n",
      "4/4 [==============================] - 10s 3s/step - loss: 0.2806 - accuracy: 0.9225\n",
      "Epoch 10/10\n",
      "4/4 [==============================] - 11s 3s/step - loss: 0.1954 - accuracy: 0.9650\n"
>>>>>>> 5030aa3be7eac3a826beb0c01e0393183a4fb0db
     ]
    },
    {
     "data": {
      "text/plain": [
<<<<<<< HEAD
       "<keras.callbacks.History at 0x7f93bfd82fa0>"
      ]
     },
     "execution_count": 16,
=======
       "<keras.src.callbacks.History at 0x7fae2faeb580>"
      ]
     },
     "execution_count": 25,
>>>>>>> 5030aa3be7eac3a826beb0c01e0393183a4fb0db
     "metadata": {},
     "output_type": "execute_result"
    }
   ],
   "source": [
    "model = get_model(num_obs = num_obs, num_orders=num_orders, horizons=horizons)\n",
    "\n",
    "optimizer = Adam(learning_rate=0.0005)\n",
    "\n",
    "model.compile(loss='categorical_crossentropy', metrics=['accuracy'], optimizer=optimizer)\n",
    "\n",
<<<<<<< HEAD
    "\n",
    "\n",
=======
    "epochs = 10\n",
>>>>>>> 5030aa3be7eac3a826beb0c01e0393183a4fb0db
    "split_train_val = 100\n",
    "\n",
    "\n",
    "x_train = x_data[:100]\n",
    "y_train = y_data[:100]\n",
    "\n",
    "\n",
    "model.fit(\n",
    "    x_train, y_train,\n",
    "    epochs=epochs, verbose=1,\n",
<<<<<<< HEAD
    "    validation_data=(x_train, y_train)\n",
    ")"
=======
    ")"
   ]
  },
  {
   "cell_type": "code",
   "execution_count": 29,
   "metadata": {
    "tags": []
   },
   "outputs": [
    {
     "name": "stdout",
     "output_type": "stream",
     "text": [
      "1/1 [==============================] - 0s 91ms/step\n"
     ]
    },
    {
     "data": {
      "text/plain": [
       "array([[[2.7403174e-02, 9.6297181e-01, 9.6250167e-03],\n",
       "        [5.9188559e-04, 5.4349816e-01, 4.5590997e-01],\n",
       "        [1.9316598e-03, 2.1573377e-01, 7.8233463e-01],\n",
       "        [1.9936305e-01, 2.7066082e-02, 7.7357090e-01]]], dtype=float32)"
      ]
     },
     "execution_count": 29,
     "metadata": {},
     "output_type": "execute_result"
    }
   ],
   "source": [
    "model.predict(np.array([x_data[100]]))"
   ]
  },
  {
   "cell_type": "code",
   "execution_count": 28,
   "metadata": {
    "tags": []
   },
   "outputs": [
    {
     "data": {
      "text/plain": [
       "array([[0, 0, 1],\n",
       "       [0, 1, 0],\n",
       "       [0, 1, 0],\n",
       "       [0, 1, 0]])"
      ]
     },
     "execution_count": 28,
     "metadata": {},
     "output_type": "execute_result"
    }
   ],
   "source": [
    "y_data[100]"
>>>>>>> 5030aa3be7eac3a826beb0c01e0393183a4fb0db
   ]
  }
 ],
 "metadata": {
  "kernelspec": {
<<<<<<< HEAD
   "display_name": "Python 3.9.18 ('winfo')",
=======
   "display_name": "conda_tensorflow2_p310",
>>>>>>> 5030aa3be7eac3a826beb0c01e0393183a4fb0db
   "language": "python",
   "name": "conda_tensorflow2_p310"
  },
  "language_info": {
   "codemirror_mode": {
    "name": "ipython",
    "version": 3
   },
   "file_extension": ".py",
   "mimetype": "text/x-python",
   "name": "python",
   "nbconvert_exporter": "python",
   "pygments_lexer": "ipython3",
<<<<<<< HEAD
   "version": "3.9.18"
=======
   "version": "3.10.14"
>>>>>>> 5030aa3be7eac3a826beb0c01e0393183a4fb0db
  },
  "vscode": {
   "interpreter": {
    "hash": "427e97b6da3cb087d78c210bdc8298854eec87236c726cff9a618067d2cae8ac"
   }
  }
 },
 "nbformat": 4,
 "nbformat_minor": 4
}
