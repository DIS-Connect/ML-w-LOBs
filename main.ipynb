{
 "cells": [
  {
   "cell_type": "code",
   "execution_count": 41,
   "id": "84d8f45a",
   "metadata": {},
   "outputs": [],
   "source": [
    "import os\n",
    "import pandas as pd\n",
    "import boto3\n",
    "from datetime import datetime, timedelta\n",
    "\n",
    "import importlib\n",
    "import matplotlib.pyplot as plt\n",
    "import seaborn as sns\n",
    "\n",
    "from ipywidgets import interact, FloatSlider\n",
    "import order_book.transformation\n",
    "from order_book.simulation import *\n",
    "from order_book.transformation import *\n",
    "from order_book.loader import *\n",
    "import awswrangler as wr\n",
    "\n",
    "import ml_model\n",
    "from ml_model.test_model import *\n",
    "from ml_model.seq2seq import *\n",
    "\n",
    "from tensorflow.keras.optimizers import Adam\n",
    "import warnings\n",
    "import matplotlib.pyplot as plt\n",
    "\n",
    "warnings.filterwarnings(\"ignore\", category=FutureWarning)\n",
    "boto3.setup_default_session(profile_name=\"data\")\n",
    "\n",
    "%reload_ext autoreload\n",
    "%autoreload 2"
   ]
  },
  {
   "cell_type": "code",
   "execution_count": null,
   "id": "713c77e0",
   "metadata": {},
   "outputs": [],
   "source": [
    "\"\"\"\n",
    "Ideas:\n",
    "Include ob of hourly and all 4 quarter hourly products\n",
    "\n",
    "\n",
    "\n",
    "\n",
    "Model Input:\n",
    "Ob Vector:\n",
    "Information: TtD, DoW, Price, Spread\n",
    "Bids: [0% - 2%], [2% - 5%],[5% - 10%], [10% - 20%], [20% - 50%], [50% - infty]\n",
    "Asks: [0% - 2%], [2% - 5%],[5% - 10%], [10% - 20%], [20% - 50%], [50% - infty]\n",
    "\n",
    "\n",
    "\n",
    "\n",
    "\n",
    "\n",
    "\n",
    "\n",
    "\"\"\""
   ]
  },
  {
   "cell_type": "code",
   "execution_count": null,
   "id": "f13eb3d6",
   "metadata": {},
   "outputs": [],
   "source": []
  },
  {
   "cell_type": "code",
   "execution_count": 85,
   "id": "a6bdc927",
   "metadata": {},
   "outputs": [
    {
     "ename": "KeyError",
     "evalue": "0",
     "output_type": "error",
     "traceback": [
      "\u001b[0;31m---------------------------------------------------------------------------\u001b[0m",
      "\u001b[0;31mValueError\u001b[0m                                Traceback (most recent call last)",
      "File \u001b[0;32m/opt/anaconda3/envs/winfo/lib/python3.9/site-packages/pandas/core/indexes/range.py:413\u001b[0m, in \u001b[0;36mRangeIndex.get_loc\u001b[0;34m(self, key)\u001b[0m\n\u001b[1;32m    412\u001b[0m \u001b[38;5;28;01mtry\u001b[39;00m:\n\u001b[0;32m--> 413\u001b[0m     \u001b[38;5;28;01mreturn\u001b[39;00m \u001b[38;5;28;43mself\u001b[39;49m\u001b[38;5;241;43m.\u001b[39;49m\u001b[43m_range\u001b[49m\u001b[38;5;241;43m.\u001b[39;49m\u001b[43mindex\u001b[49m\u001b[43m(\u001b[49m\u001b[43mnew_key\u001b[49m\u001b[43m)\u001b[49m\n\u001b[1;32m    414\u001b[0m \u001b[38;5;28;01mexcept\u001b[39;00m \u001b[38;5;167;01mValueError\u001b[39;00m \u001b[38;5;28;01mas\u001b[39;00m err:\n",
      "\u001b[0;31mValueError\u001b[0m: 0 is not in range",
      "\nThe above exception was the direct cause of the following exception:\n",
      "\u001b[0;31mKeyError\u001b[0m                                  Traceback (most recent call last)",
      "Cell \u001b[0;32mIn[85], line 6\u001b[0m\n\u001b[1;32m      3\u001b[0m start \u001b[38;5;241m=\u001b[39m datetime(\u001b[38;5;241m2024\u001b[39m, \u001b[38;5;241m1\u001b[39m, \u001b[38;5;241m4\u001b[39m, \u001b[38;5;241m20\u001b[39m, \u001b[38;5;241m15\u001b[39m)\n\u001b[1;32m      4\u001b[0m end \u001b[38;5;241m=\u001b[39m datetime(\u001b[38;5;241m2024\u001b[39m, \u001b[38;5;241m1\u001b[39m, \u001b[38;5;241m4\u001b[39m, \u001b[38;5;241m21\u001b[39m, \u001b[38;5;241m0\u001b[39m)\n\u001b[0;32m----> 6\u001b[0m order_data \u001b[38;5;241m=\u001b[39m \u001b[43mdl\u001b[49m\u001b[38;5;241;43m.\u001b[39;49m\u001b[43mget_raw_product_orders\u001b[49m\u001b[43m(\u001b[49m\u001b[43mstart\u001b[49m\u001b[43m,\u001b[49m\u001b[43m \u001b[49m\u001b[43mend\u001b[49m\u001b[43m)\u001b[49m\n",
      "File \u001b[0;32m~/Documents/TUM/semester8/entrix/ml-w-lobs/order_book/loader.py:58\u001b[0m, in \u001b[0;36mDataLoader.get_raw_product_orders\u001b[0;34m(self, deliverystart, deliveryend)\u001b[0m\n\u001b[1;32m     55\u001b[0m order_data \u001b[38;5;241m=\u001b[39m  wr\u001b[38;5;241m.\u001b[39mathena\u001b[38;5;241m.\u001b[39mread_sql_query(query, database)\n\u001b[1;32m     56\u001b[0m order_data\u001b[38;5;241m.\u001b[39mcolumns \u001b[38;5;241m=\u001b[39m \u001b[38;5;28mself\u001b[39m\u001b[38;5;241m.\u001b[39mcolumns\n\u001b[0;32m---> 58\u001b[0m \u001b[38;5;28;43mself\u001b[39;49m\u001b[38;5;241;43m.\u001b[39;49m\u001b[43mstore_product_orders\u001b[49m\u001b[43m(\u001b[49m\u001b[43morder_data\u001b[49m\u001b[43m)\u001b[49m\n\u001b[1;32m     60\u001b[0m \u001b[38;5;28;01mreturn\u001b[39;00m order_data\n",
      "File \u001b[0;32m~/Documents/TUM/semester8/entrix/ml-w-lobs/order_book/loader.py:128\u001b[0m, in \u001b[0;36mDataLoader.store_product_orders\u001b[0;34m(self, order_data)\u001b[0m\n\u001b[1;32m    125\u001b[0m \u001b[38;5;28;01mdef\u001b[39;00m \u001b[38;5;21mstore_product_orders\u001b[39m(\u001b[38;5;28mself\u001b[39m, order_data):\n\u001b[0;32m--> 128\u001b[0m     deliverystart \u001b[38;5;241m=\u001b[39m datetime\u001b[38;5;241m.\u001b[39mstrptime(\u001b[43morder_data\u001b[49m\u001b[43m[\u001b[49m\u001b[38;5;124;43m\"\u001b[39;49m\u001b[38;5;124;43mDeliveryStart\u001b[39;49m\u001b[38;5;124;43m\"\u001b[39;49m\u001b[43m]\u001b[49m\u001b[43m[\u001b[49m\u001b[38;5;241;43m0\u001b[39;49m\u001b[43m]\u001b[49m, \u001b[38;5;124m\"\u001b[39m\u001b[38;5;124m%\u001b[39m\u001b[38;5;124mY-\u001b[39m\u001b[38;5;124m%\u001b[39m\u001b[38;5;124mm-\u001b[39m\u001b[38;5;132;01m%d\u001b[39;00m\u001b[38;5;124mT\u001b[39m\u001b[38;5;124m%\u001b[39m\u001b[38;5;124mH:\u001b[39m\u001b[38;5;124m%\u001b[39m\u001b[38;5;124mM:\u001b[39m\u001b[38;5;124m%\u001b[39m\u001b[38;5;124mSZ\u001b[39m\u001b[38;5;124m\"\u001b[39m)\n\u001b[1;32m    130\u001b[0m     deliveryend \u001b[38;5;241m=\u001b[39m datetime\u001b[38;5;241m.\u001b[39mstrptime(order_data[\u001b[38;5;124m\"\u001b[39m\u001b[38;5;124mDeliveryEnd\u001b[39m\u001b[38;5;124m\"\u001b[39m][\u001b[38;5;241m0\u001b[39m], \u001b[38;5;124m\"\u001b[39m\u001b[38;5;124m%\u001b[39m\u001b[38;5;124mY-\u001b[39m\u001b[38;5;124m%\u001b[39m\u001b[38;5;124mm-\u001b[39m\u001b[38;5;132;01m%d\u001b[39;00m\u001b[38;5;124mT\u001b[39m\u001b[38;5;124m%\u001b[39m\u001b[38;5;124mH:\u001b[39m\u001b[38;5;124m%\u001b[39m\u001b[38;5;124mM:\u001b[39m\u001b[38;5;124m%\u001b[39m\u001b[38;5;124mSZ\u001b[39m\u001b[38;5;124m\"\u001b[39m)\n\u001b[1;32m    132\u001b[0m     folder_name, file_name \u001b[38;5;241m=\u001b[39m \u001b[38;5;28mself\u001b[39m\u001b[38;5;241m.\u001b[39mget_local_file_path(deliverystart, deliveryend)\n",
      "File \u001b[0;32m/opt/anaconda3/envs/winfo/lib/python3.9/site-packages/pandas/core/series.py:1112\u001b[0m, in \u001b[0;36mSeries.__getitem__\u001b[0;34m(self, key)\u001b[0m\n\u001b[1;32m   1109\u001b[0m     \u001b[38;5;28;01mreturn\u001b[39;00m \u001b[38;5;28mself\u001b[39m\u001b[38;5;241m.\u001b[39m_values[key]\n\u001b[1;32m   1111\u001b[0m \u001b[38;5;28;01melif\u001b[39;00m key_is_scalar:\n\u001b[0;32m-> 1112\u001b[0m     \u001b[38;5;28;01mreturn\u001b[39;00m \u001b[38;5;28;43mself\u001b[39;49m\u001b[38;5;241;43m.\u001b[39;49m\u001b[43m_get_value\u001b[49m\u001b[43m(\u001b[49m\u001b[43mkey\u001b[49m\u001b[43m)\u001b[49m\n\u001b[1;32m   1114\u001b[0m \u001b[38;5;66;03m# Convert generator to list before going through hashable part\u001b[39;00m\n\u001b[1;32m   1115\u001b[0m \u001b[38;5;66;03m# (We will iterate through the generator there to check for slices)\u001b[39;00m\n\u001b[1;32m   1116\u001b[0m \u001b[38;5;28;01mif\u001b[39;00m is_iterator(key):\n",
      "File \u001b[0;32m/opt/anaconda3/envs/winfo/lib/python3.9/site-packages/pandas/core/series.py:1228\u001b[0m, in \u001b[0;36mSeries._get_value\u001b[0;34m(self, label, takeable)\u001b[0m\n\u001b[1;32m   1225\u001b[0m     \u001b[38;5;28;01mreturn\u001b[39;00m \u001b[38;5;28mself\u001b[39m\u001b[38;5;241m.\u001b[39m_values[label]\n\u001b[1;32m   1227\u001b[0m \u001b[38;5;66;03m# Similar to Index.get_value, but we do not fall back to positional\u001b[39;00m\n\u001b[0;32m-> 1228\u001b[0m loc \u001b[38;5;241m=\u001b[39m \u001b[38;5;28;43mself\u001b[39;49m\u001b[38;5;241;43m.\u001b[39;49m\u001b[43mindex\u001b[49m\u001b[38;5;241;43m.\u001b[39;49m\u001b[43mget_loc\u001b[49m\u001b[43m(\u001b[49m\u001b[43mlabel\u001b[49m\u001b[43m)\u001b[49m\n\u001b[1;32m   1230\u001b[0m \u001b[38;5;28;01mif\u001b[39;00m is_integer(loc):\n\u001b[1;32m   1231\u001b[0m     \u001b[38;5;28;01mreturn\u001b[39;00m \u001b[38;5;28mself\u001b[39m\u001b[38;5;241m.\u001b[39m_values[loc]\n",
      "File \u001b[0;32m/opt/anaconda3/envs/winfo/lib/python3.9/site-packages/pandas/core/indexes/range.py:415\u001b[0m, in \u001b[0;36mRangeIndex.get_loc\u001b[0;34m(self, key)\u001b[0m\n\u001b[1;32m    413\u001b[0m         \u001b[38;5;28;01mreturn\u001b[39;00m \u001b[38;5;28mself\u001b[39m\u001b[38;5;241m.\u001b[39m_range\u001b[38;5;241m.\u001b[39mindex(new_key)\n\u001b[1;32m    414\u001b[0m     \u001b[38;5;28;01mexcept\u001b[39;00m \u001b[38;5;167;01mValueError\u001b[39;00m \u001b[38;5;28;01mas\u001b[39;00m err:\n\u001b[0;32m--> 415\u001b[0m         \u001b[38;5;28;01mraise\u001b[39;00m \u001b[38;5;167;01mKeyError\u001b[39;00m(key) \u001b[38;5;28;01mfrom\u001b[39;00m \u001b[38;5;21;01merr\u001b[39;00m\n\u001b[1;32m    416\u001b[0m \u001b[38;5;28;01mif\u001b[39;00m \u001b[38;5;28misinstance\u001b[39m(key, Hashable):\n\u001b[1;32m    417\u001b[0m     \u001b[38;5;28;01mraise\u001b[39;00m \u001b[38;5;167;01mKeyError\u001b[39;00m(key)\n",
      "\u001b[0;31mKeyError\u001b[0m: 0"
     ]
    }
   ],
   "source": [
    "dl = DataLoader()\n",
    "\n",
    "start = datetime(2024, 1, 4, 20, 15)\n",
    "end = datetime(2024, 1, 4, 21, 0)\n",
    "\n",
    "order_data = dl.get_raw_product_orders(start, end)"
   ]
  },
  {
   "cell_type": "code",
   "execution_count": 84,
   "id": "ce693240",
   "metadata": {},
   "outputs": [
    {
     "data": {
      "text/plain": [
       "array(['DE2', 'DE3', 'DE4', 'DE1'], dtype=object)"
      ]
     },
     "execution_count": 84,
     "metadata": {},
     "output_type": "execute_result"
    }
   ],
   "source": [
    "order_data[\"DeliveryArea\"].unique()"
   ]
  },
  {
   "cell_type": "markdown",
   "id": "6271edca",
   "metadata": {},
   "source": [
    "### Data Transformation"
   ]
  },
  {
   "cell_type": "code",
   "execution_count": null,
   "id": "55ed213d",
   "metadata": {},
   "outputs": [],
   "source": []
  },
  {
   "cell_type": "code",
   "execution_count": 43,
   "id": "d642407c",
   "metadata": {},
   "outputs": [],
   "source": [
    "num_orders = 5\n",
    "num_obs = 5\n",
    "horizons = 4\n",
    "ticks = 1000"
   ]
  },
  {
   "cell_type": "code",
   "execution_count": 44,
   "id": "29c947ec",
   "metadata": {},
   "outputs": [],
   "source": [
    "ob_series = to_ob_series_by_ticks(order_data, num_orders=num_orders, ticks=ticks)"
   ]
  },
  {
   "cell_type": "code",
   "execution_count": 45,
   "id": "04e069db",
   "metadata": {},
   "outputs": [
    {
     "name": "stderr",
     "output_type": "stream",
     "text": [
      "/Users/henryhenryson/Documents/TUM/semester8/entrix/ml-w-lobs/order_book/transformation.py:183: VisibleDeprecationWarning: Creating an ndarray from ragged nested sequences (which is a list-or-tuple of lists-or-tuples-or ndarrays with different lengths or shapes) is deprecated. If you meant to do this, you must specify 'dtype=object' when creating the ndarray.\n",
      "  return np.array(trends)\n"
     ]
    }
   ],
   "source": [
    "price_trends = get_price_trends(ob_series, horizons=horizons)"
   ]
  },
  {
   "cell_type": "code",
   "execution_count": 46,
   "id": "eef94d55",
   "metadata": {},
   "outputs": [],
   "source": [
    "ob_vectors, change_vectors = ob_series_to_vectors(ob_series)"
   ]
  },
  {
   "cell_type": "code",
   "execution_count": 66,
   "id": "f2715056",
   "metadata": {},
   "outputs": [],
   "source": [
    "encoder_input, decoder_output = vecs_to_model_input(change_vectors, num_obs, price_trends, horizons)\n",
    "decoder_input = np.array([np.array([decoder_output[0][0]]) if i == 0 else np.array([decoder_output[i-1][0]]) for i in range(len(encoder_input))])"
   ]
  },
  {
   "cell_type": "code",
   "execution_count": 67,
   "id": "fa4522fe",
   "metadata": {},
   "outputs": [
    {
     "data": {
      "text/plain": [
       "(103, 1, 3)"
      ]
     },
     "execution_count": 67,
     "metadata": {},
     "output_type": "execute_result"
    }
   ],
   "source": [
    "decoder_input.shape"
   ]
  },
  {
   "cell_type": "code",
   "execution_count": 68,
   "id": "a8a7b533",
   "metadata": {},
   "outputs": [
    {
     "data": {
      "image/png": "[encoded data removed]",
      "text/plain": [
       "<Figure size 640x480 with 2 Axes>"
      ]
     },
     "metadata": {},
     "output_type": "display_data"
    }
   ],
   "source": [
    "plt.imshow(x_data[2].T, cmap='hot', interpolation='nearest', origin='lower', vmax=4)\n",
    "\n",
    "# Adding color bar to show the scale\n",
    "plt.colorbar()\n",
    "\n",
    "# Adding labels\n",
    "plt.xlabel('Vector Components')\n",
    "plt.ylabel('Vectors')\n",
    "plt.title('Heatmap of Vectors')\n",
    "\n",
    "# Display the heatmap\n",
    "plt.show()"
   ]
  },
  {
   "cell_type": "markdown",
   "id": "bd247d6d",
   "metadata": {},
   "source": [
    "### Training"
   ]
  },
  {
   "cell_type": "code",
   "execution_count": 69,
   "id": "c2284ea3",
   "metadata": {},
   "outputs": [],
   "source": [
    "# Set seeds for reproducibility\n",
    "np.random.seed(42)\n",
    "tf.random.set_seed(42)"
   ]
  },
  {
   "cell_type": "markdown",
   "id": "077019dd",
   "metadata": {},
   "source": [
    "#### Seq2Seq"
   ]
  },
  {
   "cell_type": "code",
   "execution_count": 78,
   "id": "728a19b7",
   "metadata": {},
   "outputs": [
    {
     "name": "stderr",
     "output_type": "stream",
     "text": [
      "2024-05-28 12:05:43.369779: I tensorflow/core/common_runtime/executor.cc:1197] [/device:CPU:0] (DEBUG INFO) Executor start aborting (this does not indicate an error and you can ignore this message): INVALID_ARGUMENT: You must feed a value for placeholder tensor 'gradients/split_2_grad/concat/split_2/split_dim' with dtype int32\n",
      "\t [[{{node gradients/split_2_grad/concat/split_2/split_dim}}]]\n",
      "2024-05-28 12:05:43.371355: I tensorflow/core/common_runtime/executor.cc:1197] [/device:CPU:0] (DEBUG INFO) Executor start aborting (this does not indicate an error and you can ignore this message): INVALID_ARGUMENT: You must feed a value for placeholder tensor 'gradients/split_grad/concat/split/split_dim' with dtype int32\n",
      "\t [[{{node gradients/split_grad/concat/split/split_dim}}]]\n",
      "2024-05-28 12:05:43.372434: I tensorflow/core/common_runtime/executor.cc:1197] [/device:CPU:0] (DEBUG INFO) Executor start aborting (this does not indicate an error and you can ignore this message): INVALID_ARGUMENT: You must feed a value for placeholder tensor 'gradients/split_1_grad/concat/split_1/split_dim' with dtype int32\n",
      "\t [[{{node gradients/split_1_grad/concat/split_1/split_dim}}]]\n",
      "2024-05-28 12:05:43.561267: I tensorflow/core/common_runtime/executor.cc:1197] [/device:CPU:0] (DEBUG INFO) Executor start aborting (this does not indicate an error and you can ignore this message): INVALID_ARGUMENT: You must feed a value for placeholder tensor 'gradients/split_2_grad/concat/split_2/split_dim' with dtype int32\n",
      "\t [[{{node gradients/split_2_grad/concat/split_2/split_dim}}]]\n",
      "2024-05-28 12:05:43.562496: I tensorflow/core/common_runtime/executor.cc:1197] [/device:CPU:0] (DEBUG INFO) Executor start aborting (this does not indicate an error and you can ignore this message): INVALID_ARGUMENT: You must feed a value for placeholder tensor 'gradients/split_grad/concat/split/split_dim' with dtype int32\n",
      "\t [[{{node gradients/split_grad/concat/split/split_dim}}]]\n",
      "2024-05-28 12:05:43.563642: I tensorflow/core/common_runtime/executor.cc:1197] [/device:CPU:0] (DEBUG INFO) Executor start aborting (this does not indicate an error and you can ignore this message): INVALID_ARGUMENT: You must feed a value for placeholder tensor 'gradients/split_1_grad/concat/split_1/split_dim' with dtype int32\n",
      "\t [[{{node gradients/split_1_grad/concat/split_1/split_dim}}]]\n",
      "2024-05-28 12:05:43.754915: I tensorflow/core/common_runtime/executor.cc:1197] [/device:CPU:0] (DEBUG INFO) Executor start aborting (this does not indicate an error and you can ignore this message): INVALID_ARGUMENT: You must feed a value for placeholder tensor 'gradients/split_2_grad/concat/split_2/split_dim' with dtype int32\n",
      "\t [[{{node gradients/split_2_grad/concat/split_2/split_dim}}]]\n",
      "2024-05-28 12:05:43.756346: I tensorflow/core/common_runtime/executor.cc:1197] [/device:CPU:0] (DEBUG INFO) Executor start aborting (this does not indicate an error and you can ignore this message): INVALID_ARGUMENT: You must feed a value for placeholder tensor 'gradients/split_grad/concat/split/split_dim' with dtype int32\n",
      "\t [[{{node gradients/split_grad/concat/split/split_dim}}]]\n",
      "2024-05-28 12:05:43.757383: I tensorflow/core/common_runtime/executor.cc:1197] [/device:CPU:0] (DEBUG INFO) Executor start aborting (this does not indicate an error and you can ignore this message): INVALID_ARGUMENT: You must feed a value for placeholder tensor 'gradients/split_1_grad/concat/split_1/split_dim' with dtype int32\n",
      "\t [[{{node gradients/split_1_grad/concat/split_1/split_dim}}]]\n",
      "2024-05-28 12:05:43.942844: I tensorflow/core/common_runtime/executor.cc:1197] [/device:CPU:0] (DEBUG INFO) Executor start aborting (this does not indicate an error and you can ignore this message): INVALID_ARGUMENT: You must feed a value for placeholder tensor 'gradients/split_2_grad/concat/split_2/split_dim' with dtype int32\n",
      "\t [[{{node gradients/split_2_grad/concat/split_2/split_dim}}]]\n",
      "2024-05-28 12:05:43.944066: I tensorflow/core/common_runtime/executor.cc:1197] [/device:CPU:0] (DEBUG INFO) Executor start aborting (this does not indicate an error and you can ignore this message): INVALID_ARGUMENT: You must feed a value for placeholder tensor 'gradients/split_grad/concat/split/split_dim' with dtype int32\n",
      "\t [[{{node gradients/split_grad/concat/split/split_dim}}]]\n",
      "2024-05-28 12:05:43.945074: I tensorflow/core/common_runtime/executor.cc:1197] [/device:CPU:0] (DEBUG INFO) Executor start aborting (this does not indicate an error and you can ignore this message): INVALID_ARGUMENT: You must feed a value for placeholder tensor 'gradients/split_1_grad/concat/split_1/split_dim' with dtype int32\n",
      "\t [[{{node gradients/split_1_grad/concat/split_1/split_dim}}]]\n"
     ]
    },
    {
     "name": "stdout",
     "output_type": "stream",
     "text": [
      "Model: \"model_7\"\n",
      "__________________________________________________________________________________________________\n",
      " Layer (type)                   Output Shape         Param #     Connected to                     \n",
      "==================================================================================================\n",
      " input_33 (InputLayer)          [(None, 5, 20)]      0           []                               \n",
      "                                                                                                  \n",
      " lstm_32 (LSTM)                 [(None, 16),         2368        ['input_33[0][0]']               \n",
      "                                 (None, 16),                                                      \n",
      "                                 (None, 16)]                                                      \n",
      "                                                                                                  \n",
      " input_34 (InputLayer)          [(None, 1, 3)]       0           []                               \n",
      "                                                                                                  \n",
      " reshape_10 (Reshape)           (None, 1, 16)        0           ['lstm_32[0][0]']                \n",
      "                                                                                                  \n",
      " concatenate_77 (Concatenate)   (None, 1, 19)        0           ['input_34[0][0]',               \n",
      "                                                                  'reshape_10[0][0]']             \n",
      "                                                                                                  \n",
      " lstm_33 (LSTM)                 [(None, 1, 16),      2304        ['concatenate_77[0][0]',         \n",
      "                                 (None, 16),                      'lstm_32[0][1]',                \n",
      "                                 (None, 16)]                      'lstm_32[0][2]',                \n",
      "                                                                  'concatenate_79[0][0]',         \n",
      "                                                                  'lstm_33[0][1]',                \n",
      "                                                                  'lstm_33[0][2]',                \n",
      "                                                                  'concatenate_81[0][0]',         \n",
      "                                                                  'lstm_33[1][1]',                \n",
      "                                                                  'lstm_33[1][2]',                \n",
      "                                                                  'concatenate_83[0][0]',         \n",
      "                                                                  'lstm_33[2][1]',                \n",
      "                                                                  'lstm_33[2][2]']                \n",
      "                                                                                                  \n",
      " concatenate_78 (Concatenate)   (None, 1, 32)        0           ['lstm_33[0][0]',                \n",
      "                                                                  'reshape_10[0][0]']             \n",
      "                                                                                                  \n",
      " dense_16 (Dense)               (None, 1, 3)         99          ['concatenate_78[0][0]',         \n",
      "                                                                  'concatenate_80[0][0]',         \n",
      "                                                                  'concatenate_82[0][0]',         \n",
      "                                                                  'concatenate_84[0][0]']         \n",
      "                                                                                                  \n",
      " concatenate_79 (Concatenate)   (None, 1, 19)        0           ['dense_16[0][0]',               \n",
      "                                                                  'reshape_10[0][0]']             \n",
      "                                                                                                  \n",
      " concatenate_80 (Concatenate)   (None, 1, 32)        0           ['lstm_33[1][0]',                \n",
      "                                                                  'reshape_10[0][0]']             \n",
      "                                                                                                  \n",
      " concatenate_81 (Concatenate)   (None, 1, 19)        0           ['dense_16[1][0]',               \n",
      "                                                                  'reshape_10[0][0]']             \n",
      "                                                                                                  \n",
      " concatenate_82 (Concatenate)   (None, 1, 32)        0           ['lstm_33[2][0]',                \n",
      "                                                                  'reshape_10[0][0]']             \n",
      "                                                                                                  \n",
      " concatenate_83 (Concatenate)   (None, 1, 19)        0           ['dense_16[2][0]',               \n",
      "                                                                  'reshape_10[0][0]']             \n",
      "                                                                                                  \n",
      " concatenate_84 (Concatenate)   (None, 1, 32)        0           ['lstm_33[3][0]',                \n",
      "                                                                  'reshape_10[0][0]']             \n",
      "                                                                                                  \n",
      " concatenate_86 (Concatenate)   (None, 4, 3)         0           ['dense_16[0][0]',               \n",
      "                                                                  'dense_16[1][0]',               \n",
      "                                                                  'dense_16[2][0]',               \n",
      "                                                                  'dense_16[3][0]']               \n",
      "                                                                                                  \n",
      "==================================================================================================\n",
      "Total params: 4,771\n",
      "Trainable params: 4,771\n",
      "Non-trainable params: 0\n",
      "__________________________________________________________________________________________________\n"
     ]
    },
    {
     "name": "stderr",
     "output_type": "stream",
     "text": [
      "2024-05-28 12:05:44.136763: I tensorflow/core/common_runtime/executor.cc:1197] [/device:CPU:0] (DEBUG INFO) Executor start aborting (this does not indicate an error and you can ignore this message): INVALID_ARGUMENT: You must feed a value for placeholder tensor 'gradients/split_2_grad/concat/split_2/split_dim' with dtype int32\n",
      "\t [[{{node gradients/split_2_grad/concat/split_2/split_dim}}]]\n",
      "2024-05-28 12:05:44.138175: I tensorflow/core/common_runtime/executor.cc:1197] [/device:CPU:0] (DEBUG INFO) Executor start aborting (this does not indicate an error and you can ignore this message): INVALID_ARGUMENT: You must feed a value for placeholder tensor 'gradients/split_grad/concat/split/split_dim' with dtype int32\n",
      "\t [[{{node gradients/split_grad/concat/split/split_dim}}]]\n",
      "2024-05-28 12:05:44.139219: I tensorflow/core/common_runtime/executor.cc:1197] [/device:CPU:0] (DEBUG INFO) Executor start aborting (this does not indicate an error and you can ignore this message): INVALID_ARGUMENT: You must feed a value for placeholder tensor 'gradients/split_1_grad/concat/split_1/split_dim' with dtype int32\n",
      "\t [[{{node gradients/split_1_grad/concat/split_1/split_dim}}]]\n"
     ]
    }
   ],
   "source": [
    "n_hidden = 16\n",
    "\n",
    "seq2seq_model = get_seq2seq_model(\n",
    "    num_obs = num_obs, \n",
    "    num_orders=num_orders, \n",
    "    horizons=horizons, \n",
    "    latent_dim=n_hidden)\n",
    "\n",
    "seq2seq_model.compile(loss='categorical_crossentropy', metrics=['accuracy'], optimizer='adam')\n",
    "\n",
    "seq2seq_model.summary()"
   ]
  },
  {
   "cell_type": "code",
   "execution_count": 79,
   "id": "56fa5c90",
   "metadata": {},
   "outputs": [
    {
     "name": "stdout",
     "output_type": "stream",
     "text": [
      "Epoch 1/50\n",
      "2/2 [==============================] - 0s 134ms/step - loss: 1.1250 - accuracy: 0.3157 - val_loss: 1.0913 - val_accuracy: 0.2500\n",
      "Epoch 2/50\n",
      "2/2 [==============================] - 0s 105ms/step - loss: 1.1086 - accuracy: 0.3207 - val_loss: 1.0612 - val_accuracy: 0.3333\n",
      "Epoch 3/50\n",
      "2/2 [==============================] - 0s 106ms/step - loss: 1.1004 - accuracy: 0.3687 - val_loss: 1.0496 - val_accuracy: 0.4167\n",
      "Epoch 4/50\n",
      "2/2 [==============================] - 0s 106ms/step - loss: 1.0937 - accuracy: 0.3838 - val_loss: 1.0367 - val_accuracy: 0.4167\n",
      "Epoch 5/50\n",
      "2/2 [==============================] - 0s 105ms/step - loss: 1.0889 - accuracy: 0.4141 - val_loss: 1.0313 - val_accuracy: 0.4167\n",
      "Epoch 6/50\n",
      "2/2 [==============================] - 0s 104ms/step - loss: 1.0853 - accuracy: 0.4141 - val_loss: 1.0236 - val_accuracy: 0.5000\n",
      "Epoch 7/50\n",
      "2/2 [==============================] - 0s 105ms/step - loss: 1.0817 - accuracy: 0.4217 - val_loss: 1.0130 - val_accuracy: 0.5000\n",
      "Epoch 8/50\n",
      "2/2 [==============================] - 0s 105ms/step - loss: 1.0777 - accuracy: 0.4343 - val_loss: 1.0056 - val_accuracy: 0.5000\n",
      "Epoch 9/50\n",
      "2/2 [==============================] - 0s 105ms/step - loss: 1.0733 - accuracy: 0.4444 - val_loss: 1.0035 - val_accuracy: 0.4167\n",
      "Epoch 10/50\n",
      "2/2 [==============================] - 0s 105ms/step - loss: 1.0696 - accuracy: 0.4444 - val_loss: 1.0016 - val_accuracy: 0.4167\n",
      "Epoch 11/50\n",
      "2/2 [==============================] - 0s 107ms/step - loss: 1.0657 - accuracy: 0.4444 - val_loss: 1.0021 - val_accuracy: 0.4167\n",
      "Epoch 12/50\n",
      "2/2 [==============================] - 0s 105ms/step - loss: 1.0620 - accuracy: 0.4444 - val_loss: 1.0058 - val_accuracy: 0.4167\n",
      "Epoch 13/50\n",
      "2/2 [==============================] - 0s 115ms/step - loss: 1.0588 - accuracy: 0.4495 - val_loss: 1.0134 - val_accuracy: 0.4167\n",
      "Epoch 14/50\n",
      "2/2 [==============================] - 0s 105ms/step - loss: 1.0562 - accuracy: 0.4520 - val_loss: 1.0181 - val_accuracy: 0.5000\n",
      "Epoch 15/50\n",
      "2/2 [==============================] - 0s 105ms/step - loss: 1.0525 - accuracy: 0.4495 - val_loss: 1.0164 - val_accuracy: 0.5833\n",
      "Epoch 16/50\n",
      "2/2 [==============================] - 0s 107ms/step - loss: 1.0492 - accuracy: 0.4596 - val_loss: 1.0083 - val_accuracy: 0.5833\n",
      "Epoch 17/50\n",
      "2/2 [==============================] - 0s 108ms/step - loss: 1.0459 - accuracy: 0.4672 - val_loss: 1.0005 - val_accuracy: 0.5833\n",
      "Epoch 18/50\n",
      "2/2 [==============================] - 0s 109ms/step - loss: 1.0427 - accuracy: 0.4773 - val_loss: 0.9956 - val_accuracy: 0.5833\n",
      "Epoch 19/50\n",
      "2/2 [==============================] - 0s 110ms/step - loss: 1.0392 - accuracy: 0.4798 - val_loss: 0.9955 - val_accuracy: 0.5833\n",
      "Epoch 20/50\n",
      "2/2 [==============================] - 0s 107ms/step - loss: 1.0358 - accuracy: 0.4773 - val_loss: 0.9957 - val_accuracy: 0.5833\n",
      "Epoch 21/50\n",
      "2/2 [==============================] - 0s 113ms/step - loss: 1.0324 - accuracy: 0.4747 - val_loss: 1.0006 - val_accuracy: 0.5833\n",
      "Epoch 22/50\n",
      "2/2 [==============================] - 0s 111ms/step - loss: 1.0287 - accuracy: 0.4747 - val_loss: 1.0059 - val_accuracy: 0.5833\n",
      "Epoch 23/50\n",
      "2/2 [==============================] - 0s 115ms/step - loss: 1.0255 - accuracy: 0.4798 - val_loss: 1.0087 - val_accuracy: 0.5833\n",
      "Epoch 24/50\n",
      "2/2 [==============================] - 0s 111ms/step - loss: 1.0217 - accuracy: 0.4798 - val_loss: 1.0143 - val_accuracy: 0.5833\n",
      "Epoch 25/50\n",
      "2/2 [==============================] - 0s 111ms/step - loss: 1.0185 - accuracy: 0.4773 - val_loss: 1.0242 - val_accuracy: 0.5000\n",
      "Epoch 26/50\n",
      "2/2 [==============================] - 0s 108ms/step - loss: 1.0143 - accuracy: 0.4773 - val_loss: 1.0229 - val_accuracy: 0.5833\n",
      "Epoch 27/50\n",
      "2/2 [==============================] - 0s 105ms/step - loss: 1.0100 - accuracy: 0.4924 - val_loss: 1.0169 - val_accuracy: 0.5833\n",
      "Epoch 28/50\n",
      "2/2 [==============================] - 0s 107ms/step - loss: 1.0061 - accuracy: 0.5051 - val_loss: 1.0104 - val_accuracy: 0.5833\n",
      "Epoch 29/50\n",
      "2/2 [==============================] - 0s 111ms/step - loss: 1.0020 - accuracy: 0.5152 - val_loss: 1.0061 - val_accuracy: 0.5833\n",
      "Epoch 30/50\n",
      "2/2 [==============================] - 0s 111ms/step - loss: 0.9974 - accuracy: 0.5152 - val_loss: 1.0124 - val_accuracy: 0.5833\n",
      "Epoch 31/50\n",
      "2/2 [==============================] - 0s 112ms/step - loss: 0.9922 - accuracy: 0.5202 - val_loss: 1.0232 - val_accuracy: 0.5000\n",
      "Epoch 32/50\n",
      "2/2 [==============================] - 0s 109ms/step - loss: 0.9875 - accuracy: 0.5253 - val_loss: 1.0386 - val_accuracy: 0.5000\n",
      "Epoch 33/50\n",
      "2/2 [==============================] - 0s 107ms/step - loss: 0.9827 - accuracy: 0.5354 - val_loss: 1.0517 - val_accuracy: 0.4167\n",
      "Epoch 34/50\n",
      "2/2 [==============================] - 0s 105ms/step - loss: 0.9775 - accuracy: 0.5404 - val_loss: 1.0608 - val_accuracy: 0.4167\n",
      "Epoch 35/50\n",
      "2/2 [==============================] - 0s 109ms/step - loss: 0.9715 - accuracy: 0.5429 - val_loss: 1.0524 - val_accuracy: 0.5000\n",
      "Epoch 36/50\n",
      "2/2 [==============================] - 0s 105ms/step - loss: 0.9650 - accuracy: 0.5455 - val_loss: 1.0360 - val_accuracy: 0.5000\n",
      "Epoch 37/50\n",
      "2/2 [==============================] - 0s 105ms/step - loss: 0.9590 - accuracy: 0.5606 - val_loss: 1.0284 - val_accuracy: 0.5000\n",
      "Epoch 38/50\n",
      "2/2 [==============================] - 0s 106ms/step - loss: 0.9547 - accuracy: 0.5783 - val_loss: 1.0248 - val_accuracy: 0.5000\n",
      "Epoch 39/50\n",
      "2/2 [==============================] - 0s 107ms/step - loss: 0.9462 - accuracy: 0.5909 - val_loss: 1.0599 - val_accuracy: 0.4167\n",
      "Epoch 40/50\n",
      "2/2 [==============================] - 0s 111ms/step - loss: 0.9383 - accuracy: 0.5960 - val_loss: 1.0951 - val_accuracy: 0.4167\n",
      "Epoch 41/50\n",
      "2/2 [==============================] - 0s 112ms/step - loss: 0.9347 - accuracy: 0.5758 - val_loss: 1.1303 - val_accuracy: 0.3333\n",
      "Epoch 42/50\n",
      "2/2 [==============================] - 0s 109ms/step - loss: 0.9268 - accuracy: 0.5682 - val_loss: 1.1031 - val_accuracy: 0.4167\n",
      "Epoch 43/50\n",
      "2/2 [==============================] - 0s 106ms/step - loss: 0.9178 - accuracy: 0.5884 - val_loss: 1.0616 - val_accuracy: 0.4167\n",
      "Epoch 44/50\n",
      "2/2 [==============================] - 0s 113ms/step - loss: 0.9094 - accuracy: 0.6010 - val_loss: 1.0277 - val_accuracy: 0.4167\n",
      "Epoch 45/50\n",
      "2/2 [==============================] - 0s 108ms/step - loss: 0.9043 - accuracy: 0.6263 - val_loss: 1.0272 - val_accuracy: 0.4167\n",
      "Epoch 46/50\n",
      "2/2 [==============================] - 0s 107ms/step - loss: 0.8964 - accuracy: 0.6111 - val_loss: 1.0671 - val_accuracy: 0.4167\n",
      "Epoch 47/50\n",
      "2/2 [==============================] - 0s 114ms/step - loss: 0.8871 - accuracy: 0.6010 - val_loss: 1.1243 - val_accuracy: 0.4167\n",
      "Epoch 48/50\n",
      "2/2 [==============================] - 0s 112ms/step - loss: 0.8771 - accuracy: 0.6061 - val_loss: 1.1647 - val_accuracy: 0.1667\n",
      "Epoch 49/50\n",
      "2/2 [==============================] - 0s 111ms/step - loss: 0.8696 - accuracy: 0.6111 - val_loss: 1.1988 - val_accuracy: 0.1667\n",
      "Epoch 50/50\n",
      "2/2 [==============================] - 0s 121ms/step - loss: 0.8627 - accuracy: 0.6212 - val_loss: 1.1870 - val_accuracy: 0.1667\n"
     ]
    },
    {
     "data": {
      "text/plain": [
       "<keras.callbacks.History at 0x7fc4758a8ac0>"
      ]
     },
     "execution_count": 79,
     "metadata": {},
     "output_type": "execute_result"
    }
   ],
   "source": [
    "epochs = 50\n",
    "batch_size = 64\n",
    "val_split = 100\n",
    "\n",
    "encoder_input_train = encoder_input[1:100]\n",
    "decoder_input_train = decoder_input[1:100]\n",
    "decoder_output_train = decoder_output[1:100]\n",
    "\n",
    "enc_in_val = encoder_input[100:]\n",
    "dec_in_val = decoder_input[100:]\n",
    "dec_out_val = decoder_output[100:]\n",
    "\n",
    "\n",
    "seq2seq_model.fit(\n",
    "    [encoder_input_train, decoder_input_train], decoder_output_train,\n",
    "    batch_size=batch_size,\n",
    "    epochs=epochs, verbose=1,\n",
    "    validation_data = ([enc_in_val, dec_in_val], dec_out_val)\n",
    ")"
   ]
  },
  {
   "cell_type": "code",
   "execution_count": 16,
   "id": "7e091a67",
   "metadata": {},
   "outputs": [
    {
     "name": "stdout",
     "output_type": "stream",
     "text": [
      "Epoch 1/15\n"
     ]
    },
    {
     "name": "stderr",
     "output_type": "stream",
     "text": [
      "/opt/anaconda3/envs/winfo/lib/python3.9/site-packages/tensorflow/python/data/ops/structured_function.py:254: UserWarning: Even though the `tf.config.experimental_run_functions_eagerly` option is set, this option does not apply to tf.data functions. To force eager execution of tf.data functions, please use `tf.data.experimental.enable_debug_mode()`.\n",
      "  warnings.warn(\n"
     ]
    },
    {
     "name": "stdout",
     "output_type": "stream",
     "text": [
      "4/4 [==============================] - 3s 641ms/step - loss: 3.2198 - accuracy: 0.3775 - val_loss: 2.0352 - val_accuracy: 0.4475\n",
      "Epoch 2/15\n",
      "4/4 [==============================] - 2s 613ms/step - loss: 1.6347 - accuracy: 0.4375 - val_loss: 1.0269 - val_accuracy: 0.5175\n",
      "Epoch 3/15\n",
      "4/4 [==============================] - 2s 568ms/step - loss: 0.9780 - accuracy: 0.5600 - val_loss: 0.8390 - val_accuracy: 0.5975\n",
      "Epoch 4/15\n",
      "4/4 [==============================] - 2s 620ms/step - loss: 0.8202 - accuracy: 0.6175 - val_loss: 0.7393 - val_accuracy: 0.6925\n",
      "Epoch 5/15\n",
      "4/4 [==============================] - 2s 606ms/step - loss: 0.7311 - accuracy: 0.6925 - val_loss: 0.6661 - val_accuracy: 0.7775\n",
      "Epoch 6/15\n",
      "4/4 [==============================] - 2s 608ms/step - loss: 0.6461 - accuracy: 0.7650 - val_loss: 0.5532 - val_accuracy: 0.8200\n",
      "Epoch 7/15\n",
      "4/4 [==============================] - 2s 616ms/step - loss: 0.5352 - accuracy: 0.8500 - val_loss: 0.4381 - val_accuracy: 0.9375\n",
      "Epoch 8/15\n",
      "4/4 [==============================] - 2s 616ms/step - loss: 0.4176 - accuracy: 0.9375 - val_loss: 0.3342 - val_accuracy: 0.9600\n",
      "Epoch 9/15\n",
      "4/4 [==============================] - 3s 633ms/step - loss: 0.3229 - accuracy: 0.9500 - val_loss: 0.2315 - val_accuracy: 0.9750\n",
      "Epoch 10/15\n",
      "4/4 [==============================] - 3s 625ms/step - loss: 0.2448 - accuracy: 0.9525 - val_loss: 0.1692 - val_accuracy: 0.9875\n",
      "Epoch 11/15\n",
      "4/4 [==============================] - 2s 605ms/step - loss: 0.1693 - accuracy: 0.9750 - val_loss: 0.1374 - val_accuracy: 0.9775\n",
      "Epoch 12/15\n",
      "4/4 [==============================] - 2s 608ms/step - loss: 0.1492 - accuracy: 0.9675 - val_loss: 0.0849 - val_accuracy: 0.9950\n",
      "Epoch 13/15\n",
      "4/4 [==============================] - 2s 616ms/step - loss: 0.1041 - accuracy: 0.9925 - val_loss: 0.0759 - val_accuracy: 1.0000\n",
      "Epoch 14/15\n",
      "4/4 [==============================] - 2s 621ms/step - loss: 0.0697 - accuracy: 1.0000 - val_loss: 0.0597 - val_accuracy: 0.9975\n",
      "Epoch 15/15\n",
      "4/4 [==============================] - 2s 606ms/step - loss: 0.0530 - accuracy: 1.0000 - val_loss: 0.0321 - val_accuracy: 1.0000\n"
     ]
    },
    {
     "data": {
      "text/plain": [
       "<keras.callbacks.History at 0x7f93bfd82fa0>"
      ]
     },
     "execution_count": 16,
     "metadata": {},
     "output_type": "execute_result"
    }
   ],
   "source": [
    "model = get_model(num_obs = num_obs, num_orders=num_orders, horizons=horizons)\n",
    "\n",
    "optimizer = Adam(learning_rate=0.0005)\n",
    "\n",
    "model.compile(loss='categorical_crossentropy', metrics=['accuracy'], optimizer=optimizer)\n",
    "\n",
    "\n",
    "\n",
    "split_train_val = 100\n",
    "\n",
    "\n",
    "x_train = x_data[:100]\n",
    "y_train = y_data[:100]\n",
    "\n",
    "\n",
    "model.fit(\n",
    "    x_train, y_train,\n",
    "    epochs=epochs, verbose=1,\n",
    "    validation_data=(x_train, y_train)\n",
    ")"
   ]
  }
 ],
 "metadata": {
  "kernelspec": {
   "display_name": "Python 3.9.18 ('winfo')",
   "language": "python",
   "name": "python3"
  },
  "language_info": {
   "codemirror_mode": {
    "name": "ipython",
    "version": 3
   },
   "file_extension": ".py",
   "mimetype": "text/x-python",
   "name": "python",
   "nbconvert_exporter": "python",
   "pygments_lexer": "ipython3",
   "version": "3.9.18"
  },
  "vscode": {
   "interpreter": {
    "hash": "427e97b6da3cb087d78c210bdc8298854eec87236c726cff9a618067d2cae8ac"
   }
  }
 },
 "nbformat": 4,
 "nbformat_minor": 5
}
