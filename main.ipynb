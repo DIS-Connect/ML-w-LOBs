{
 "cells": [
  {
   "cell_type": "code",
   "execution_count": 2,
   "metadata": {},
   "outputs": [
    {
     "name": "stderr",
     "output_type": "stream",
     "text": [
      "2024-05-27 10:50:21.388723: I tensorflow/core/platform/cpu_feature_guard.cc:182] This TensorFlow binary is optimized to use available CPU instructions in performance-critical operations.\n",
      "To enable the following instructions: SSE4.1 SSE4.2, in other operations, rebuild TensorFlow with the appropriate compiler flags.\n"
     ]
    }
   ],
   "source": [
    "import os\n",
    "import pandas as pd\n",
    "import boto3\n",
    "from datetime import datetime, timedelta\n",
    "\n",
    "import importlib\n",
    "import matplotlib.pyplot as plt\n",
    "import seaborn as sns\n",
    "\n",
    "from ipywidgets import interact, FloatSlider\n",
    "import order_book.transformation\n",
    "from order_book.simulation import *\n",
    "from order_book.transformation import *\n",
    "from order_book.loader import *\n",
    "import awswrangler as wr\n",
    "\n",
    "from tensorflow.keras.callbacks import Callback\n",
    "import ml_model\n",
    "from ml_model.test_model import *\n",
    "\n",
    "from tensorflow.keras.optimizers import Adam\n",
    "import warnings\n",
    "import matplotlib.pyplot as plt\n",
    "\n",
    "warnings.filterwarnings(\"ignore\", category=FutureWarning)"
   ]
  },
  {
   "cell_type": "code",
   "execution_count": 3,
   "metadata": {},
   "outputs": [],
   "source": [
    "dl = DataLoader()"
   ]
  },
  {
   "cell_type": "code",
   "execution_count": 4,
   "metadata": {},
   "outputs": [
    {
     "ename": "ClientError",
     "evalue": "An error occurred (UnrecognizedClientException) when calling the DeleteTable operation: The security token included in the request is invalid",
     "output_type": "error",
     "traceback": [
      "\u001b[0;31m---------------------------------------------------------------------------\u001b[0m",
      "\u001b[0;31mClientError\u001b[0m                               Traceback (most recent call last)",
      "File \u001b[0;32m/opt/anaconda3/envs/winfo/lib/python3.9/site-packages/awswrangler/athena/_read.py:507\u001b[0m, in \u001b[0;36m_resolve_query_without_cache\u001b[0;34m(sql, database, data_source, ctas_approach, unload_approach, unload_parameters, categories, chunksize, s3_output, workgroup, encryption, kms_key, keep_files, ctas_database, ctas_temp_table_name, ctas_bucketing_info, ctas_write_compression, athena_query_wait_polling_delay, use_threads, s3_additional_kwargs, boto3_session, pyarrow_additional_kwargs, execution_params, dtype_backend, client_request_token)\u001b[0m\n\u001b[1;32m    506\u001b[0m \u001b[39mtry\u001b[39;00m:\n\u001b[0;32m--> 507\u001b[0m     \u001b[39mreturn\u001b[39;00m _resolve_query_without_cache_ctas(\n\u001b[1;32m    508\u001b[0m         sql\u001b[39m=\u001b[39;49msql,\n\u001b[1;32m    509\u001b[0m         database\u001b[39m=\u001b[39;49mdatabase,\n\u001b[1;32m    510\u001b[0m         data_source\u001b[39m=\u001b[39;49mdata_source,\n\u001b[1;32m    511\u001b[0m         s3_output\u001b[39m=\u001b[39;49ms3_output,\n\u001b[1;32m    512\u001b[0m         keep_files\u001b[39m=\u001b[39;49mkeep_files,\n\u001b[1;32m    513\u001b[0m         chunksize\u001b[39m=\u001b[39;49mchunksize,\n\u001b[1;32m    514\u001b[0m         categories\u001b[39m=\u001b[39;49mcategories,\n\u001b[1;32m    515\u001b[0m         encryption\u001b[39m=\u001b[39;49mencryption,\n\u001b[1;32m    516\u001b[0m         workgroup\u001b[39m=\u001b[39;49mworkgroup,\n\u001b[1;32m    517\u001b[0m         kms_key\u001b[39m=\u001b[39;49mkms_key,\n\u001b[1;32m    518\u001b[0m         alt_database\u001b[39m=\u001b[39;49mctas_database,\n\u001b[1;32m    519\u001b[0m         name\u001b[39m=\u001b[39;49mname,\n\u001b[1;32m    520\u001b[0m         ctas_bucketing_info\u001b[39m=\u001b[39;49mctas_bucketing