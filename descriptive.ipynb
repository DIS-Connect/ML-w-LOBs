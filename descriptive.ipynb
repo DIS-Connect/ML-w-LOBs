{
 "cells": [
  {
   "cell_type": "code",
   "execution_count": 5,
   "metadata": {},
   "outputs": [],
   "source": [
    "import os\n",
    "import pandas as pd\n",
    "import boto3\n",
    "\n",
    "from order_book.simulation import *\n",
    "from order_book.transformation import *\n",
    "from order_book.loader import *\n",
    "import awswrangler as wr\n",
    "\n",
    "import ml_model\n",
    "from ml_model.test_model import *\n",
    "from ml_model.seq2seq import *\n",
    "\n",
    "import warnings\n",
    "import matplotlib.pyplot as plt\n",
    "\n",
    "warnings.filterwarnings(\"ignore\", category=FutureWarning)\n",
    "boto3.setup_default_session(profile_name=\"data\")\n",
    "\n",
    "%reload_ext autoreload\n",
    "%autoreload 2"
   ]
  },
  {
   "cell_type": "code",
   "execution_count": 218,
   "metadata": {},
   "outputs": [],
   "source": [
    "dl = DataLoader()\n",
    "\n",
    "start = datetime(2024, 1, 1, 20)\n",
    "end = datetime(2024, 1, 1, 21)\n",
    "\n",
    "order_data = dl.get_raw_product_orders(start, end)"
   ]
  },
  {
   "cell_type": "markdown",
   "metadata": {},
   "source": [
    "### Order Distribution"
   ]
  },
  {
   "cell_type": "code",
   "execution_count": 220,
   "metadata": {},
   "outputs": [
    {
     "data": {
      "image/png": "iVBORw0KGgoAAAANSUhEUgAAA0gAAAH5CAYAAAC77h4iAAAAOXRFWHRTb2Z0d2FyZQBNYXRwbG90bGliIHZlcnNpb24zLjguNCwgaHR0cHM6Ly9tYXRwbG90bGliLm9yZy8fJSN1AAAACXBIWXMAAA9hAAAPYQGoP6dpAAA22ElEQVR4nO3dfZRV1Z0n7k8FqOIlUOGlqbJaVDpNTEZok8bEQF7UqCgjko7ToRMzxEzbRseoocWYMHZaTCK0dKL2YJuowwIjMWRmLXHsmWkUuhXbJi8GZeJLYnQCCEpZScSLKFZBcX5/5Hh/XQIKWpei4HnWumtx9/nezb5n7QX1qXPO3nVFURQBAAAgb+vpAQAAABwoBCQAAICSgAQAAFASkAAAAEoCEgAAQElAAgAAKAlIAAAApb49PYBa2blzZ5599tkMHjw4dXV1PT0cAACghxRFkRdffDEtLS1529te/xrRQRuQnn322YwaNaqnhwEAABwgNmzYkMMPP/x1aw7agDR48OAkvzsJQ4YM6eHRAAAAPWXLli0ZNWpUNSO8noM2IL16W92QIUMEJAAAYK8evbFIAwAAQElAAgAAKAlIAAAAJQEJAACgJCABAACUBCQAAICSgAQAAFASkAAAAEoCEgAAQElAAgAAKAlIA