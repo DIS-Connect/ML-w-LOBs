{
 "cells": [
  {
   "cell_type": "code",
   "execution_count": 5,
   "metadata": {},
   "outputs": [],
   "source": [
    "import os\n",
    "import pandas as pd\n",
    "import boto3\n",
    "\n",
    "from order_book.simulation import *\n",
    "from order_book.transformation import *\n",
    "from order_book.loader import *\n",
    "import awswrangler as wr\n",
    "\n",
    "import ml_model\n",
    "from ml_model.test_model import *\n",
    "from ml_model.seq2seq import *\n",
    "\n",
    "import warnings\n",
    "import matplotlib.pyplot as plt\n",
    "\n",
    "warnings.filterwarnings(\"ignore\", category=FutureWarning)\n",
    "boto3.setup_default_session(profile_name=\"data\")\n",
    "\n",
    "%reload_ext autoreload\n",
    "%autoreload 2"
   ]
  },
  {
   "cell_type": "code",
   "execution_count": 2,
   "metadata": {},
   "outputs": [],
   "source": [
    "dl = DataLoader()\n",
    "\n",
    "start = datetime(2024, 1, 4, 20)\n",
    "end = datetime(2024, 1, 4, 21)\n",
    "\n",
    "order_data = dl.get_raw_product_orders(start, end)"
   ]
  },
  {
   "cell_type": "code",
   "execution_count": null,
   "metadata": {},
   "outputs": [],
   "source": [
    "ignore_orders_below = 0\n",
    "ignore_orders_above = 300"
   ]
  },
  {
   "cell_type": "markdown",
   "metadata": {},
   "source": [
    "### Order Distribution"
   ]
  },
  {
   "cell_type": "code",
   "execution_count": 19,
   "metadata": {},
   "outputs": [
    {
     "data": {
      "text/plain": [
       "'03 16:00'"
      ]
     },
     "execution_count": 19,
     "metadata": {},
     "output_type": "execute_result"
    }
   ],
   "source": [
    "obs_by_ticks = get_obs_by_ticks(order_data=order_data, ticks=1000)\n",
    "\n",
    "price_list = []\n",
    "time_list = []\n",
    "\n",
    "for (time, ob) in obs_by_ticks:\n",
    "    price = (ob[ob[\"Side\"] == \"SELL\"][\"Price\"].min() + ob[ob[\"Side\"] == \"BUY\"][\"Price\"].max())/2\n",
    "    \n",
    "   